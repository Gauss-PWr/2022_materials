{
 "cells": [
  {
   "cell_type": "markdown",
   "id": "be6742d2",
   "metadata": {},
   "source": [
    "# Imports"
   ]
  },
  {
   "cell_type": "code",
   "execution_count": 1,
   "id": "49ee02d2",
   "metadata": {},
   "outputs": [],
   "source": [
    "import matplotlib.pyplot as plt\n",
    "import numpy as np\n",
    "import pandas as pd\n",
    "import os\n",
    "import tensorflow as tf\n",
    "from tensorflow import keras as krs\n",
    "import seaborn as sns\n",
    "\n",
    "from tensorflow.keras import Sequential\n",
    "from tensorflow.keras import layers\n",
    "from tensorflow.keras.losses import SparseCategoricalCrossentropy\n",
    "from keras.layers import (\n",
    "    Dense, \n",
    "    Conv2D,\n",
    "    Flatten,\n",
    "    Input,\n",
    "    MaxPooling2D,\n",
    "    Dropout,\n",
    "    Rescaling\n",
    ")\n",
    "\n",
    "from tensorflow.keras.callbacks import EarlyStopping, ModelCheckpoint, CSVLogger\n",
    "\n",
    "sns.set_style('darkgrid')"
   ]
  },
  {
   "cell_type": "markdown",
   "id": "dea1127d",
   "metadata": {},
   "source": [
    "# Regression"
   ]
  },
  {
   "cell_type": "markdown",
   "id": "cd33951e",
   "metadata": {},
   "source": [
    "## Data"
   ]
  },
  {
   "cell_type": "code",
   "execution_count": 2,
   "id": "36b8cf31",
   "metadata": {},
   "outputs": [],
   "source": [
    "url = \"https://archive.ics.uci.edu/ml/machine-learning-databases/concrete/compressive/Concrete_Data.xls\"\n",
    "\n",
    "# import data from url\n"
   ]
  },
  {
   "cell_type": "code",
   "execution_count": 3,
   "id": "47a7ecd7",
   "metadata": {},
   "outputs": [],
   "source": [
    "# rename columns\n"
   ]
  },
  {
   "cell_type": "code",
   "execution_count": 4,
   "id": "94913a61",
   "metadata": {},
   "outputs": [],
   "source": [
    "# create pairplot\n"
   ]
  },
  {
   "cell_type": "markdown",
   "id": "b5bba381",
   "metadata": {},
   "source": [
    "## Splitting"
   ]
  },
  {
   "cell_type": "code",
   "execution_count": 5,
   "id": "9d65380c",
   "metadata": {},
   "outputs": [],
   "source": [
    "# split into train/test\n"
   ]
  },
  {
   "cell_type": "markdown",
   "id": "6bad8423",
   "metadata": {},
   "source": [
    "## Keras Sequential API"
   ]
  },
  {
   "cell_type": "markdown",
   "id": "15ea12bd",
   "metadata": {},
   "source": [
    "### Simple Model"
   ]
  },
  {
   "cell_type": "markdown",
   "id": "3bbcfeb3",
   "metadata": {},
   "source": [
    "![simple_nn](media\\simple_nn.svg)"
   ]
  },
  {
   "cell_type": "code",
   "execution_count": 6,
   "id": "5fb5385a",
   "metadata": {},
   "outputs": [],
   "source": [
    "# extract only one variable \n"
   ]
  },
  {
   "cell_type": "code",
   "execution_count": 7,
   "id": "051bb958",
   "metadata": {},
   "outputs": [],
   "source": [
    "# normalization\n"
   ]
  },
  {
   "cell_type": "code",
   "execution_count": 8,
   "id": "d802119a",
   "metadata": {},
   "outputs": [],
   "source": [
    "# create simple keras model\n"
   ]
  },
  {
   "cell_type": "code",
   "execution_count": 9,
   "id": "20436c57",
   "metadata": {},
   "outputs": [],
   "source": [
    "# initialize parameters\n"
   ]
  },
  {
   "cell_type": "code",
   "execution_count": 10,
   "id": "321b0b17",
   "metadata": {},
   "outputs": [],
   "source": [
    "# compile model\n"
   ]
  },
  {
   "cell_type": "code",
   "execution_count": 11,
   "id": "59c106ef",
   "metadata": {},
   "outputs": [],
   "source": [
    "# fit model\n"
   ]
  },
  {
   "cell_type": "code",
   "execution_count": 12,
   "id": "d00fb855",
   "metadata": {},
   "outputs": [],
   "source": [
    "# extract losses\n"
   ]
  },
  {
   "cell_type": "code",
   "execution_count": 13,
   "id": "242faa73",
   "metadata": {},
   "outputs": [],
   "source": [
    "# visualize losses\n"
   ]
  },
  {
   "cell_type": "code",
   "execution_count": 14,
   "id": "8e82a77e",
   "metadata": {},
   "outputs": [],
   "source": [
    "# evaluate model\n"
   ]
  },
  {
   "cell_type": "code",
   "execution_count": 15,
   "id": "41d6b5c8",
   "metadata": {},
   "outputs": [],
   "source": [
    "# visualize predictions\n"
   ]
  },
  {
   "cell_type": "markdown",
   "id": "bd8bad85",
   "metadata": {},
   "source": [
    "### Nonlinear Model"
   ]
  },
  {
   "cell_type": "markdown",
   "id": "3bd5f2ee",
   "metadata": {},
   "source": [
    "![deep_nn](media\\deep_nn.svg)"
   ]
  },
  {
   "cell_type": "code",
   "execution_count": 16,
   "id": "60d3eecc",
   "metadata": {},
   "outputs": [],
   "source": [
    "# initialize new parameters\n"
   ]
  },
  {
   "cell_type": "markdown",
   "id": "eb3ebad1",
   "metadata": {},
   "source": [
    "![activations](media\\activations.png)"
   ]
  },
  {
   "cell_type": "code",
   "execution_count": 17,
   "id": "d3416193",
   "metadata": {},
   "outputs": [],
   "source": [
    "# create nonlinear model\n"
   ]
  },
  {
   "cell_type": "code",
   "execution_count": 18,
   "id": "06dded6a",
   "metadata": {},
   "outputs": [],
   "source": [
    "# compile nonlinear model\n"
   ]
  },
  {
   "cell_type": "code",
   "execution_count": 19,
   "id": "e9f86904",
   "metadata": {},
   "outputs": [],
   "source": [
    "# fit nonlinear model\n"
   ]
  },
  {
   "cell_type": "code",
   "execution_count": 20,
   "id": "114d4120",
   "metadata": {},
   "outputs": [],
   "source": [
    "# plot losses\n"
   ]
  },
  {
   "cell_type": "code",
   "execution_count": 21,
   "id": "d21c5ab0",
   "metadata": {},
   "outputs": [],
   "source": [
    "# evaluate model\n"
   ]
  },
  {
   "cell_type": "code",
   "execution_count": 22,
   "id": "90e6eb53",
   "metadata": {},
   "outputs": [],
   "source": [
    "# plot predictions\n"
   ]
  },
  {
   "cell_type": "markdown",
   "id": "a2dea561",
   "metadata": {},
   "source": [
    "## Keras Functional API"
   ]
  },
  {
   "cell_type": "markdown",
   "id": "16e62fc1",
   "metadata": {},
   "source": [
    "![full_nn](media\\full_nn.svg)"
   ]
  },
  {
   "cell_type": "code",
   "execution_count": 23,
   "id": "db61f699",
   "metadata": {},
   "outputs": [],
   "source": [
    "# inputs\n"
   ]
  },
  {
   "cell_type": "code",
   "execution_count": 24,
   "id": "79746414",
   "metadata": {},
   "outputs": [],
   "source": [
    "# normalizer\n"
   ]
  },
  {
   "cell_type": "code",
   "execution_count": 25,
   "id": "35dd00a3",
   "metadata": {},
   "outputs": [],
   "source": [
    "# dense layer\n"
   ]
  },
  {
   "cell_type": "code",
   "execution_count": 26,
   "id": "d904302e",
   "metadata": {},
   "outputs": [],
   "source": [
    "# output layer\n"
   ]
  },
  {
   "cell_type": "code",
   "execution_count": 27,
   "id": "2642d223",
   "metadata": {},
   "outputs": [],
   "source": [
    "# create model\n"
   ]
  },
  {
   "cell_type": "code",
   "execution_count": 28,
   "id": "7b04ca98",
   "metadata": {},
   "outputs": [],
   "source": [
    "# compile model\n"
   ]
  },
  {
   "cell_type": "code",
   "execution_count": 29,
   "id": "f72b5bf9",
   "metadata": {},
   "outputs": [],
   "source": [
    "# fit model\n"
   ]
  },
  {
   "cell_type": "code",
   "execution_count": 30,
   "id": "0f049c94",
   "metadata": {},
   "outputs": [],
   "source": [
    "# plot losses\n"
   ]
  },
  {
   "cell_type": "code",
   "execution_count": 31,
   "id": "a32880c2",
   "metadata": {},
   "outputs": [],
   "source": [
    "# evaluate model\n"
   ]
  },
  {
   "cell_type": "markdown",
   "id": "c8b10966",
   "metadata": {},
   "source": [
    "## Enhancements"
   ]
  },
  {
   "cell_type": "markdown",
   "id": "f12472fc",
   "metadata": {},
   "source": [
    "### Dropout\n",
    "\n",
    "![dropout](media\\dropout.png)"
   ]
  },
  {
   "cell_type": "markdown",
   "id": "539fc34c",
   "metadata": {},
   "source": [
    "### L1/L2 Weights Regularization\n",
    "\n",
    "![regularization.png](media\\regularization.png)"
   ]
  },
  {
   "cell_type": "code",
   "execution_count": 32,
   "id": "f932122f",
   "metadata": {},
   "outputs": [],
   "source": [
    "# initialize parameters\n"
   ]
  },
  {
   "cell_type": "code",
   "execution_count": 33,
   "id": "292a8aae",
   "metadata": {},
   "outputs": [],
   "source": [
    "# create additional layers\n"
   ]
  },
  {
   "cell_type": "code",
   "execution_count": 34,
   "id": "c79d6bc2",
   "metadata": {},
   "outputs": [],
   "source": [
    "# dropout example\n"
   ]
  },
  {
   "cell_type": "code",
   "execution_count": 35,
   "id": "f8c66b1d",
   "metadata": {},
   "outputs": [],
   "source": [
    "# create enhanced model\n"
   ]
  },
  {
   "cell_type": "code",
   "execution_count": 36,
   "id": "1bcc6eb2",
   "metadata": {},
   "outputs": [],
   "source": [
    "# compile model\n"
   ]
  },
  {
   "cell_type": "code",
   "execution_count": 37,
   "id": "d5898e8a",
   "metadata": {},
   "outputs": [],
   "source": [
    "# fit model\n"
   ]
  },
  {
   "cell_type": "code",
   "execution_count": 38,
   "id": "451d2b92",
   "metadata": {},
   "outputs": [],
   "source": [
    "# plot losses\n"
   ]
  },
  {
   "cell_type": "code",
   "execution_count": 39,
   "id": "7f28079d",
   "metadata": {},
   "outputs": [],
   "source": [
    "# evaluate model\n"
   ]
  },
  {
   "cell_type": "markdown",
   "id": "a48caf80",
   "metadata": {},
   "source": [
    "# Classification"
   ]
  },
  {
   "cell_type": "markdown",
   "id": "66a3fbe8",
   "metadata": {},
   "source": [
    "## Data"
   ]
  },
  {
   "cell_type": "code",
   "execution_count": 40,
   "id": "5caa8827",
   "metadata": {},
   "outputs": [],
   "source": [
    "# Dogs and cats light dataset\n",
    "_URL = 'https://storage.googleapis.com/mledu-datasets/cats_and_dogs_filtered.zip'\n",
    "path_to_zip = tf.keras.utils.get_file('cats_and_dogs.zip',  # name of downloaded zip\n",
    "                                      origin=_URL, \n",
    "                                      extract=True,  # extracting files\n",
    "                                      cache_dir='.') # it ensures, that it will be dwonloaded to current directory\n",
    "PATH = os.path.join(os.path.dirname(path_to_zip), 'cats_and_dogs_filtered') \n",
    "\n",
    "train_dir = os.path.join(PATH, 'train')\n",
    "validation_dir = os.path.join(PATH, 'validation')"
   ]
  },
  {
   "cell_type": "markdown",
   "id": "d46863e5",
   "metadata": {},
   "source": [
    "### Batches\n",
    "\n",
    "![batches](media\\batches.jpg)"
   ]
  },
  {
   "cell_type": "code",
   "execution_count": 41,
   "id": "ed802d3c",
   "metadata": {},
   "outputs": [],
   "source": [
    "# initialize parameters\n"
   ]
  },
  {
   "cell_type": "code",
   "execution_count": 42,
   "id": "6d906bad",
   "metadata": {},
   "outputs": [],
   "source": [
    "# load data\n"
   ]
  },
  {
   "cell_type": "markdown",
   "id": "abc5624e",
   "metadata": {},
   "source": [
    "As we can see, it will import data into tensorflow Dataset object"
   ]
  },
  {
   "cell_type": "code",
   "execution_count": 43,
   "id": "58783af1",
   "metadata": {},
   "outputs": [],
   "source": [
    "# show classes\n"
   ]
  },
  {
   "cell_type": "code",
   "execution_count": 44,
   "id": "2c65a751",
   "metadata": {},
   "outputs": [],
   "source": [
    "# plot examples\n"
   ]
  },
  {
   "cell_type": "code",
   "execution_count": 45,
   "id": "bc621b8f",
   "metadata": {},
   "outputs": [],
   "source": [
    "# number of batches in validations set\n",
    "\n",
    "\n",
    "# splitting validation data into test set\n"
   ]
  },
  {
   "cell_type": "markdown",
   "id": "37baf75c",
   "metadata": {},
   "source": [
    "### Data prefetching"
   ]
  },
  {
   "cell_type": "code",
   "execution_count": 46,
   "id": "409767cc",
   "metadata": {},
   "outputs": [],
   "source": [
    "# AUTOTUNE prefetching\n"
   ]
  },
  {
   "cell_type": "markdown",
   "id": "eafa3249",
   "metadata": {},
   "source": [
    "![prefetch](media\\prefetch.png)"
   ]
  },
  {
   "cell_type": "markdown",
   "id": "3d79a6e4",
   "metadata": {},
   "source": [
    "## Modelling"
   ]
  },
  {
   "cell_type": "markdown",
   "id": "b8bdbdce",
   "metadata": {},
   "source": [
    "### Convolution Layer"
   ]
  },
  {
   "cell_type": "markdown",
   "id": "6a295bd2",
   "metadata": {},
   "source": [
    "![prefetch](media\\convolution.png)"
   ]
  },
  {
   "cell_type": "code",
   "execution_count": 47,
   "id": "50c8f25f",
   "metadata": {},
   "outputs": [],
   "source": [
    "# create model\n"
   ]
  },
  {
   "cell_type": "markdown",
   "id": "956726a5",
   "metadata": {},
   "source": [
    "### Max pooling"
   ]
  },
  {
   "cell_type": "markdown",
   "id": "37795799",
   "metadata": {},
   "source": [
    "![prefetch](media\\pooling.png)"
   ]
  },
  {
   "cell_type": "markdown",
   "id": "f7ccdcb5",
   "metadata": {},
   "source": [
    "We can print summary of our model"
   ]
  },
  {
   "cell_type": "code",
   "execution_count": 48,
   "id": "f0cc75b9",
   "metadata": {},
   "outputs": [],
   "source": [
    "# summary\n"
   ]
  },
  {
   "cell_type": "markdown",
   "id": "3f114f04",
   "metadata": {},
   "source": [
    "We can observe that with `padding='same'` our convolution layers don't change the width and hight of our filters."
   ]
  },
  {
   "cell_type": "markdown",
   "id": "3c210734",
   "metadata": {},
   "source": [
    "![prefetch](media\\padding.png)"
   ]
  },
  {
   "cell_type": "markdown",
   "id": "bae7f35d",
   "metadata": {},
   "source": [
    "The final computer vision model pipeline looks as follows "
   ]
  },
  {
   "cell_type": "markdown",
   "id": "fcf4306d",
   "metadata": {},
   "source": [
    "![prefetch](media\\cv.png)"
   ]
  },
  {
   "cell_type": "markdown",
   "id": "b5f9144b",
   "metadata": {},
   "source": [
    "We have to compile model"
   ]
  },
  {
   "cell_type": "code",
   "execution_count": 49,
   "id": "6fb28039",
   "metadata": {},
   "outputs": [],
   "source": [
    "# compile model\n"
   ]
  },
  {
   "cell_type": "markdown",
   "id": "f5b0863f",
   "metadata": {},
   "source": [
    "Defining callbacks and fixing random seed"
   ]
  },
  {
   "cell_type": "code",
   "execution_count": 50,
   "id": "6289cbea",
   "metadata": {},
   "outputs": [],
   "source": [
    "# random seed\n",
    "\n",
    "\n",
    "# paths to save\n",
    "\n",
    "\n",
    "# epochs and callbacks\n"
   ]
  },
  {
   "cell_type": "code",
   "execution_count": 51,
   "id": "d70d80ca",
   "metadata": {},
   "outputs": [],
   "source": [
    "# fit model\n"
   ]
  },
  {
   "cell_type": "markdown",
   "id": "04f235bf",
   "metadata": {},
   "source": [
    "We can see that data from learning are saved in history object"
   ]
  },
  {
   "cell_type": "code",
   "execution_count": 52,
   "id": "84178b83",
   "metadata": {},
   "outputs": [],
   "source": [
    "# history\n"
   ]
  },
  {
   "cell_type": "code",
   "execution_count": 53,
   "id": "e6e8da42",
   "metadata": {},
   "outputs": [],
   "source": [
    "# load model\n"
   ]
  },
  {
   "cell_type": "code",
   "execution_count": 54,
   "id": "4d615988",
   "metadata": {},
   "outputs": [],
   "source": [
    "# model summary\n"
   ]
  },
  {
   "cell_type": "code",
   "execution_count": 55,
   "id": "86ad181b",
   "metadata": {},
   "outputs": [],
   "source": [
    "# load history\n"
   ]
  },
  {
   "cell_type": "code",
   "execution_count": 56,
   "id": "1c15e44a",
   "metadata": {},
   "outputs": [],
   "source": [
    "# learning curves\n"
   ]
  },
  {
   "cell_type": "code",
   "execution_count": 57,
   "id": "7fb28520",
   "metadata": {},
   "outputs": [],
   "source": [
    "# evaluate model\n"
   ]
  },
  {
   "cell_type": "markdown",
   "id": "eb28745b",
   "metadata": {},
   "source": [
    "## Second model"
   ]
  },
  {
   "cell_type": "code",
   "execution_count": 58,
   "id": "39364a4d",
   "metadata": {},
   "outputs": [],
   "source": [
    "# create model\n"
   ]
  },
  {
   "cell_type": "code",
   "execution_count": 59,
   "id": "0b7cfe3e",
   "metadata": {},
   "outputs": [],
   "source": [
    "# compile model\n",
    "\n",
    "\n",
    "# random seed\n",
    "\n",
    "\n",
    "# define paths\n",
    "\n",
    "\n",
    "# epochs and callbacks\n"
   ]
  },
  {
   "cell_type": "code",
   "execution_count": 60,
   "id": "507f3c1e",
   "metadata": {},
   "outputs": [],
   "source": [
    "# summary\n"
   ]
  },
  {
   "cell_type": "code",
   "execution_count": 61,
   "id": "3259e15f",
   "metadata": {},
   "outputs": [],
   "source": [
    "# fit model\n"
   ]
  },
  {
   "cell_type": "code",
   "execution_count": 62,
   "id": "cfce1c0a",
   "metadata": {},
   "outputs": [],
   "source": [
    "# learning curves\n"
   ]
  },
  {
   "cell_type": "code",
   "execution_count": 63,
   "id": "6707c2fd",
   "metadata": {},
   "outputs": [],
   "source": [
    "# evaluate model\n"
   ]
  },
  {
   "cell_type": "markdown",
   "id": "55d77fe1",
   "metadata": {},
   "source": [
    "# Further reading\n",
    "\n",
    "Books:\n",
    " - [Hands-On Machine Learning with Scikit-Learn, Keras, and TensorFlow.](https://helion.pl/ksiazki/hands-on-machine-learning-with-scikit-learn-keras-and-tensorflow-concepts-tools-and-techniques-aur-lien-g-ron,e_17oi.htm#format/e)\n",
    " - [Dive Into Deep Learning](https://d2l.ai/)\n",
    " \n",
    "Articles:\n",
    " - [Weights initialization techniques](https://towardsdatascience.com/weight-initialization-techniques-in-neural-networks-26c649eb3b78)\n",
    " - [Batch Normalization](https://towardsdatascience.com/batch-normalization-in-3-levels-of-understanding-14c2da90a338)\n",
    " - [Activation Functions](https://arxiv.org/abs/2101.09957)\n",
    " - [Convolutional Neural Networks for Visual Recognition](https://cs231n.github.io/convolutional-networks/)\n",
    " \n",
    "[Playground](https://playground.tensorflow.org/)"
   ]
  }
 ],
 "metadata": {
  "kernelspec": {
   "display_name": "Python [conda env:lectures] *",
   "language": "python",
   "name": "conda-env-lectures-py"
  },
  "language_info": {
   "codemirror_mode": {
    "name": "ipython",
    "version": 3
   },
   "file_extension": ".py",
   "mimetype": "text/x-python",
   "name": "python",
   "nbconvert_exporter": "python",
   "pygments_lexer": "ipython3",
   "version": "3.9.11"
  },
  "toc": {
   "base_numbering": 1,
   "nav_menu": {},
   "number_sections": true,
   "sideBar": true,
   "skip_h1_title": false,
   "title_cell": "Table of Contents",
   "title_sidebar": "Contents",
   "toc_cell": false,
   "toc_position": {},
   "toc_section_display": true,
   "toc_window_display": false
  }
 },
 "nbformat": 4,
 "nbformat_minor": 5
}
