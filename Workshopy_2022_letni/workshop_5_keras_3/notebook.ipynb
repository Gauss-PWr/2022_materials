{
 "cells": [
  {
   "cell_type": "code",
   "execution_count": 20,
   "id": "80ecf731",
   "metadata": {},
   "outputs": [],
   "source": [
    "import tensorflow as tf\n",
    "import datetime\n",
    "from tensorflow import keras\n",
    "from tensorflow.keras import layers\n",
    "import tensorflow_datasets as tfds\n",
    "import pandas as pd\n",
    "import numpy as np"
   ]
  },
  {
   "cell_type": "code",
   "execution_count": 21,
   "id": "0a56d8a0",
   "metadata": {},
   "outputs": [],
   "source": [
    "%load_ext tensorboard"
   ]
  },
  {
   "cell_type": "code",
   "execution_count": 11,
   "id": "17282842",
   "metadata": {},
   "outputs": [
    {
     "name": "stdout",
     "output_type": "stream",
     "text": [
      "Known TensorBoard instances:\n",
      "  - port 6006: logdir logs (started 0:19:48 ago; pid 10452)\n",
      "  - port 6006: logdir logs (started 2:16:58 ago; pid 11084)\n",
      "  - port 6006: logdir logs/gradient_tape (started 2:08:15 ago; pid 13116)\n",
      "  - port 6006: logdir logs (started 2:16:11 ago; pid 13992)\n",
      "  - port 6006: logdir gradient_tape (started 2:19:39 ago; pid 14040)\n",
      "  - port 6006: logdir logs/fit (started 2:07:30 ago; pid 14816)\n",
      "  - port 6006: logdir logs (started 2:19:00 ago; pid 15352)\n",
      "  - port 6006: logdir logs/fit (started 0:18:56 ago; pid 17892)\n",
      "  - port 6006: logdir logs/ (started 6 days, 6:27:05 ago; pid 20004)\n",
      "  - port 6006: logdir logs/fit (started 8 days, 13:11:21 ago; pid 25060)\n",
      "  - port 6006: logdir logs/ (started 8 days, 12:56:06 ago; pid 25172)\n",
      "  - port 6006: logdir logs/image (started 0:20:34 ago; pid 2588)\n",
      "  - port 6006: logdir logs (started 0:07:02 ago; pid 3860)\n",
      "  - port 6006: logdir logs/gradient_tape (started 2:25:00 ago; pid 3880)\n",
      "  - port 6006: logdir logs/gradient_tape (started 2:20:13 ago; pid 4380)\n",
      "  - port 6006: logdir logs/fit (started 0:15:25 ago; pid 6116)\n",
      "  - port 6006: logdir logs/fit (started 3:11:41 ago; pid 6392)\n",
      "  - port 6006: logdir logs (started 0:32:20 ago; pid 7768)\n",
      "  - port 6006: logdir logs (started 2:08:51 ago; pid 7996)\n",
      "  - port 6006: logdir logs/gradient_tape (started 2:21:15 ago; pid 9416)\n"
     ]
    }
   ],
   "source": [
    "from tensorboard import notebook\n",
    "notebook.list()"
   ]
  },
  {
   "cell_type": "code",
   "execution_count": 17,
   "id": "0ec0f921",
   "metadata": {},
   "outputs": [
    {
     "name": "stdout",
     "output_type": "stream",
     "text": [
      "SUCCESS: The process with PID 2588 has been terminated.\n"
     ]
    }
   ],
   "source": [
    "!taskkill /F /PID 2588"
   ]
  },
  {
   "cell_type": "code",
   "execution_count": 18,
   "id": "8c176523",
   "metadata": {},
   "outputs": [],
   "source": [
    "!rd /s /q logs"
   ]
  },
  {
   "cell_type": "code",
   "execution_count": 19,
   "id": "d03c07c7",
   "metadata": {},
   "outputs": [],
   "source": [
    "url = \"https://archive.ics.uci.edu/ml/machine-learning-databases/concrete/compressive/Concrete_Data.xls\"\n",
    "\n",
    "df = pd.read_excel(url)"
   ]
  },
  {
   "cell_type": "code",
   "execution_count": 22,
   "id": "e99b99ef",
   "metadata": {},
   "outputs": [],
   "source": [
    "df_train = df.sample(frac=0.8, random_state=42)\n",
    "df_test = df.drop(df_train.index)"
   ]
  },
  {
   "cell_type": "code",
   "execution_count": 23,
   "id": "423f1c38",
   "metadata": {},
   "outputs": [],
   "source": [
    "x_train, y_train = df_train.iloc[:, :-1], df_train.iloc[:, -1]"
   ]
  },
  {
   "cell_type": "code",
   "execution_count": 24,
   "id": "99e53155",
   "metadata": {},
   "outputs": [],
   "source": [
    "x_test, y_test = df_test.iloc[:, :-1], df_test.iloc[:, -1]"
   ]
  },
  {
   "cell_type": "code",
   "execution_count": 25,
   "id": "e519f462",
   "metadata": {},
   "outputs": [],
   "source": [
    "drop_rate = .1\n",
    "lr = .001\n",
    "hidden_size = 16\n",
    "epochs = 250\n",
    "val_frac = .25\n",
    "metric = keras.losses.MeanSquaredError()\n",
    "regularizer = 'l1_l2'\n",
    "initializer = 'he_normal'"
   ]
  },
  {
   "cell_type": "code",
   "execution_count": 26,
   "id": "50668477",
   "metadata": {},
   "outputs": [],
   "source": [
    "normalizer = layers.Normalization(axis=-1)\n",
    "dense = layers.Dense(hidden_size, activation='relu', kernel_initializer=initializer, kernel_regularizer=regularizer)\n",
    "dropout = layers.Dropout(drop_rate)\n",
    "output_dense = layers.Dense(1, kernel_initializer=initializer, kernel_regularizer=regularizer)"
   ]
  },
  {
   "cell_type": "code",
   "execution_count": 27,
   "id": "812f89d4",
   "metadata": {},
   "outputs": [],
   "source": [
    "model = keras.Sequential([\n",
    "    normalizer,\n",
    "    dense,\n",
    "    dropout,\n",
    "    output_dense\n",
    "])"
   ]
  },
  {
   "cell_type": "code",
   "execution_count": 28,
   "id": "2d4d0cca",
   "metadata": {},
   "outputs": [],
   "source": [
    "model.compile(\n",
    "    optimizer=tf.optimizers.Adam(learning_rate=lr),\n",
    "    loss=metric)"
   ]
  },
  {
   "cell_type": "code",
   "execution_count": 29,
   "id": "702cc305",
   "metadata": {},
   "outputs": [
    {
     "data": {
      "text/plain": [
       "<keras.callbacks.History at 0x19b8368db20>"
      ]
     },
     "execution_count": 29,
     "metadata": {},
     "output_type": "execute_result"
    }
   ],
   "source": [
    "log_dir = \"logs/fit/\" + datetime.datetime.now().strftime(\"%Y%m%d-%H%M%S\")\n",
    "tensorboard_callback = tf.keras.callbacks.TensorBoard(log_dir=log_dir, histogram_freq=1)\n",
    "\n",
    "model.fit(x=x_train, \n",
    "          y=y_train, \n",
    "          epochs=100,\n",
    "          verbose=0,\n",
    "          validation_data=(x_test, y_test), \n",
    "          callbacks=[tensorboard_callback])"
   ]
  },
  {
   "cell_type": "code",
   "execution_count": 30,
   "id": "7df5e0ee",
   "metadata": {},
   "outputs": [],
   "source": [
    "base_path = 'https://archive.ics.uci.edu/ml/machine-learning-databases/wine-quality/'\n",
    "\n",
    "red = pd.read_csv(f'{base_path}winequality-red.csv', sep=';')\n",
    "white = pd.read_csv(f'{base_path}winequality-white.csv', sep=';')\n",
    "red['color'] = 1\n",
    "white['color'] = 0\n",
    "df = pd.concat([red, white])\n",
    "df['color'] = df.color.astype(np.int64)"
   ]
  },
  {
   "cell_type": "code",
   "execution_count": 31,
   "id": "08cc416b",
   "metadata": {},
   "outputs": [],
   "source": [
    "df_train = df.sample(frac=0.8, random_state=42)\n",
    "df_test = df.drop(df_train.index)"
   ]
  },
  {
   "cell_type": "code",
   "execution_count": 32,
   "id": "a6cec94f",
   "metadata": {},
   "outputs": [],
   "source": [
    "x_train, y_train = df_train.iloc[:, :-2], df_train.iloc[:, -1:]"
   ]
  },
  {
   "cell_type": "code",
   "execution_count": 33,
   "id": "77109cce",
   "metadata": {},
   "outputs": [],
   "source": [
    "x_test, y_test = df_test.iloc[:, :-2], df_test.iloc[:, -1:]"
   ]
  },
  {
   "cell_type": "code",
   "execution_count": 41,
   "id": "03c91461",
   "metadata": {},
   "outputs": [],
   "source": [
    "import matplotlib.pyplot as plt\n",
    "\n",
    "def plot_confusion_matrix(cm, class_names):\n",
    "\n",
    "    figure = plt.figure(figsize=(8, 8))\n",
    "    plt.imshow(cm)\n",
    "    plt.title(\"Confusion matrix\")\n",
    "    plt.colorbar()\n",
    "\n",
    "    plt.tight_layout()\n",
    "    plt.ylabel('True label')\n",
    "    plt.xlabel('Predicted label')\n",
    "    \n",
    "    return figure"
   ]
  },
  {
   "cell_type": "code",
   "execution_count": 47,
   "id": "8d4151b7",
   "metadata": {},
   "outputs": [],
   "source": [
    "import io\n",
    "\n",
    "def plot_to_image(figure):\n",
    "    buf = io.BytesIO()\n",
    "    plt.savefig(buf, format='png')\n",
    "    plt.close(figure)\n",
    "    buf.seek(0)\n",
    "    image = tf.image.decode_png(buf.getvalue(), channels=4)\n",
    "    image = tf.expand_dims(image, 0)\n",
    "    return image"
   ]
  },
  {
   "cell_type": "code",
   "execution_count": 48,
   "id": "472d7cc7",
   "metadata": {},
   "outputs": [],
   "source": [
    "logdir = \"logs/image/\" + datetime.datetime.now().strftime(\"%Y%m%d-%H%M%S\")\n",
    "\n",
    "tensorboard_callback = keras.callbacks.TensorBoard(log_dir=logdir)\n",
    "file_writer_cm = tf.summary.create_file_writer(logdir + '/cm')"
   ]
  },
  {
   "cell_type": "code",
   "execution_count": 49,
   "id": "df02a652",
   "metadata": {},
   "outputs": [
    {
     "data": {
      "text/plain": [
       "<keras.callbacks.History at 0x19b8e918940>"
      ]
     },
     "execution_count": 49,
     "metadata": {},
     "output_type": "execute_result"
    }
   ],
   "source": [
    "from sklearn.metrics import confusion_matrix\n",
    "\n",
    "def log_confusion_matrix(epoch, logs):\n",
    "    test_pred_raw = model.predict(x_test)\n",
    "    test_pred = np.argmax(test_pred_raw, axis=1)\n",
    "\n",
    "    cm = confusion_matrix(y_test, test_pred)\n",
    "    figure = plot_confusion_matrix(cm, class_names=['white', 'red'])\n",
    "    cm_image = plot_to_image(figure)\n",
    "\n",
    "    with file_writer_cm.as_default():\n",
    "        tf.summary.image(\"Confusion Matrix\", cm_image, step=epoch)\n",
    "\n",
    "cm_callback = keras.callbacks.LambdaCallback(on_epoch_end=log_confusion_matrix)\n",
    "\n",
    "model = keras.Sequential([\n",
    "    layers.Normalization(axis=-1),\n",
    "    layers.Dense(hidden_size, activation='relu'),\n",
    "    layers.Dense(2, activation='relu')\n",
    "])\n",
    "\n",
    "model.compile(\n",
    "    optimizer=tf.optimizers.Adam(learning_rate=lr),\n",
    "    loss=keras.losses.SparseCategoricalCrossentropy(from_logits=True),\n",
    "    metrics=tf.metrics.SparseCategoricalAccuracy()\n",
    ")\n",
    "\n",
    "model.fit(\n",
    "    x_train, y_train,\n",
    "    epochs=5,\n",
    "    verbose=0,\n",
    "    callbacks=[tensorboard_callback, cm_callback],\n",
    "    validation_data=(x_test, y_test),\n",
    ")"
   ]
  },
  {
   "cell_type": "code",
   "execution_count": 50,
   "id": "ae25fb55",
   "metadata": {},
   "outputs": [],
   "source": [
    "(train_dataset, test_dataset), info = tfds.load('ag_news_subset', with_info=True,\n",
    "                          as_supervised=True, split=['train[:25%]', 'test[:25%]'])"
   ]
  },
  {
   "cell_type": "code",
   "execution_count": 51,
   "id": "0deffe39",
   "metadata": {},
   "outputs": [],
   "source": [
    "BATCH_SIZE = 64\n",
    "train_dataset = train_dataset.batch(BATCH_SIZE)\n",
    "test_dataset = test_dataset.batch(BATCH_SIZE)"
   ]
  },
  {
   "cell_type": "code",
   "execution_count": 52,
   "id": "bea709b6",
   "metadata": {},
   "outputs": [],
   "source": [
    "VOCAB_SIZE = 1000\n",
    "encoder = keras.layers.TextVectorization(max_tokens=VOCAB_SIZE)\n",
    "encoder.adapt(train_dataset.map(lambda text, label: text))"
   ]
  },
  {
   "cell_type": "code",
   "execution_count": 53,
   "id": "f87fff20",
   "metadata": {},
   "outputs": [],
   "source": [
    "labels = np.unique(np.concatenate([label for text, label in train_dataset], axis=0))"
   ]
  },
  {
   "cell_type": "code",
   "execution_count": 54,
   "id": "4c271819",
   "metadata": {},
   "outputs": [],
   "source": [
    "loss_fn = keras.losses.SparseCategoricalCrossentropy(from_logits=True)\n",
    "optimizer = keras.optimizers.Adam(learning_rate=1e-4)\n",
    "train_loss = tf.keras.metrics.Mean('train_loss', dtype=tf.float32)\n",
    "test_loss = tf.keras.metrics.Mean('test_loss', dtype=tf.float32)\n",
    "train_accuracy = tf.keras.metrics.SparseCategoricalAccuracy('train_accuracy')\n",
    "test_accuracy = tf.keras.metrics.SparseCategoricalAccuracy('test_accuracy')"
   ]
  },
  {
   "cell_type": "code",
   "execution_count": 55,
   "id": "a5aae1ff",
   "metadata": {},
   "outputs": [],
   "source": [
    "def train_step(model, optimizer, x_train, y_train):\n",
    "    with tf.GradientTape() as tape:\n",
    "        predictions = model(x_train, training=True)\n",
    "        loss = loss_fn(y_train, predictions)\n",
    "        \n",
    "    grads = tape.gradient(loss, model.trainable_variables)\n",
    "    optimizer.apply_gradients(zip(grads, model.trainable_variables))\n",
    "\n",
    "    train_loss(loss)\n",
    "    train_accuracy(y_train, predictions)\n",
    "\n",
    "def test_step(model, x_test, y_test):\n",
    "    predictions = model(x_test)\n",
    "    loss = loss_fn(y_test, predictions)\n",
    "\n",
    "    test_loss(loss)\n",
    "    test_accuracy(y_test, predictions)"
   ]
  },
  {
   "cell_type": "code",
   "execution_count": 56,
   "id": "6585f2dc",
   "metadata": {},
   "outputs": [],
   "source": [
    "current_time = datetime.datetime.now().strftime(\"%Y%m%d-%H%M%S\")\n",
    "train_log_dir = 'logs/gradient_tape/' + current_time + '/train'\n",
    "test_log_dir = 'logs/gradient_tape/' + current_time + '/test'\n",
    "train_summary_writer = tf.summary.create_file_writer(train_log_dir)\n",
    "test_summary_writer = tf.summary.create_file_writer(test_log_dir)"
   ]
  },
  {
   "cell_type": "code",
   "execution_count": 57,
   "id": "56b025b5",
   "metadata": {},
   "outputs": [],
   "source": [
    "epochs = 3\n",
    "\n",
    "model = keras.Sequential([\n",
    "    encoder,\n",
    "    tf.keras.layers.Embedding(\n",
    "        input_dim=len(encoder.get_vocabulary()),\n",
    "        output_dim=64,\n",
    "        mask_zero=True),\n",
    "    layers.LSTM(16),\n",
    "    tf.keras.layers.Dense(32, activation='relu'),\n",
    "    tf.keras.layers.Dense(len(labels))\n",
    "])\n",
    "\n",
    "for epoch in range(epochs):\n",
    "    for (x_train, y_train) in train_dataset:\n",
    "        train_step(model, optimizer, x_train, y_train)\n",
    "    with train_summary_writer.as_default():\n",
    "        tf.summary.scalar('loss', train_loss.result(), step=epoch)\n",
    "        tf.summary.scalar('accuracy', train_accuracy.result(), step=epoch)\n",
    "\n",
    "    for (x_test, y_test) in test_dataset:\n",
    "        test_step(model, x_test, y_test)\n",
    "    \n",
    "    with test_summary_writer.as_default():\n",
    "        tf.summary.scalar('loss', test_loss.result(), step=epoch)\n",
    "        tf.summary.scalar('accuracy', test_accuracy.result(), step=epoch)\n",
    "\n",
    "    train_loss.reset_states()\n",
    "    test_loss.reset_states()\n",
    "    train_accuracy.reset_states()\n",
    "    test_accuracy.reset_states()"
   ]
  },
  {
   "cell_type": "code",
   "execution_count": 58,
   "id": "46483f77",
   "metadata": {},
   "outputs": [],
   "source": [
    "from tensorboard.plugins.hparams import api as hp"
   ]
  },
  {
   "cell_type": "code",
   "execution_count": 59,
   "id": "7a7021e3",
   "metadata": {},
   "outputs": [],
   "source": [
    "HP_LR = hp.HParam('learning_rate', hp.Discrete([1e-1, 1e-2, 1e-3, 1e-4, 1e-5]))\n",
    "\n",
    "METRIC_ACCURACY = 'accuracy'\n",
    "\n",
    "with tf.summary.create_file_writer('logs/hparam_tuning').as_default():\n",
    "    hp.hparams_config(\n",
    "        hparams=[HP_LR],\n",
    "        metrics=[hp.Metric(METRIC_ACCURACY, display_name='Accuracy')],\n",
    "    )"
   ]
  },
  {
   "cell_type": "code",
   "execution_count": 60,
   "id": "5b4a951e",
   "metadata": {},
   "outputs": [],
   "source": [
    "def train_test_model(hparams):\n",
    "    model = keras.Sequential([\n",
    "    encoder,\n",
    "    tf.keras.layers.Embedding(\n",
    "        input_dim=len(encoder.get_vocabulary()),\n",
    "        output_dim=64,\n",
    "        mask_zero=True),\n",
    "    layers.LSTM(16),\n",
    "    tf.keras.layers.Dense(32, activation='relu'),\n",
    "    tf.keras.layers.Dense(len(labels))\n",
    "])\n",
    "    model.compile(\n",
    "      optimizer=keras.optimizers.Adam(learning_rate=hparams[HP_LR]),\n",
    "      loss='sparse_categorical_crossentropy',\n",
    "      metrics=['accuracy'],\n",
    "    )\n",
    "\n",
    "    model.fit(x_train, y_train, epochs=1)\n",
    "    _, accuracy = model.evaluate(x_test, y_test)\n",
    "    return accuracy"
   ]
  },
  {
   "cell_type": "code",
   "execution_count": 61,
   "id": "9e3d1787",
   "metadata": {},
   "outputs": [],
   "source": [
    "epochs = 2\n",
    "\n",
    "def run(run_dir, hparams):\n",
    "    with tf.summary.create_file_writer(run_dir).as_default():\n",
    "        hp.hparams(hparams)\n",
    "        accuracy = train_test_model(hparams)\n",
    "        tf.summary.scalar(METRIC_ACCURACY, accuracy, step=epochs)"
   ]
  },
  {
   "cell_type": "code",
   "execution_count": 62,
   "id": "ce6ead85",
   "metadata": {},
   "outputs": [
    {
     "name": "stdout",
     "output_type": "stream",
     "text": [
      "2/2 [==============================] - 6s 20ms/step - loss: 4.3162 - accuracy: 0.3750\n",
      "2/2 [==============================] - 2s 6ms/step - loss: 5.3323 - accuracy: 0.2500\n",
      "2/2 [==============================] - 6s 16ms/step - loss: 3.8421 - accuracy: 0.3125\n",
      "2/2 [==============================] - 3s 6ms/step - loss: 6.5029 - accuracy: 0.2500\n",
      "2/2 [==============================] - 8s 17ms/step - loss: 4.5002 - accuracy: 0.2083\n",
      "2/2 [==============================] - 2s 7ms/step - loss: 2.5458 - accuracy: 0.3182\n",
      "WARNING:tensorflow:5 out of the last 822 calls to <function Model.make_train_function.<locals>.train_function at 0x0000019BA0A60550> triggered tf.function retracing. Tracing is expensive and the excessive number of tracings could be due to (1) creating @tf.function repeatedly in a loop, (2) passing tensors with different shapes, (3) passing Python objects instead of tensors. For (1), please define your @tf.function outside of the loop. For (2), @tf.function has experimental_relax_shapes=True option that relaxes argument shapes that can avoid unnecessary retracing. For (3), please refer to https://www.tensorflow.org/guide/function#controlling_retracing and https://www.tensorflow.org/api_docs/python/tf/function for  more details.\n"
     ]
    },
    {
     "name": "stderr",
     "output_type": "stream",
     "text": [
      "WARNING:tensorflow:5 out of the last 822 calls to <function Model.make_train_function.<locals>.train_function at 0x0000019BA0A60550> triggered tf.function retracing. Tracing is expensive and the excessive number of tracings could be due to (1) creating @tf.function repeatedly in a loop, (2) passing tensors with different shapes, (3) passing Python objects instead of tensors. For (1), please define your @tf.function outside of the loop. For (2), @tf.function has experimental_relax_shapes=True option that relaxes argument shapes that can avoid unnecessary retracing. For (3), please refer to https://www.tensorflow.org/guide/function#controlling_retracing and https://www.tensorflow.org/api_docs/python/tf/function for  more details.\n"
     ]
    },
    {
     "name": "stdout",
     "output_type": "stream",
     "text": [
      "2/2 [==============================] - 8s 29ms/step - loss: 3.4353 - accuracy: 0.3750\n",
      "WARNING:tensorflow:5 out of the last 132 calls to <function Model.make_test_function.<locals>.test_function at 0x0000019BA2C19280> triggered tf.function retracing. Tracing is expensive and the excessive number of tracings could be due to (1) creating @tf.function repeatedly in a loop, (2) passing tensors with different shapes, (3) passing Python objects instead of tensors. For (1), please define your @tf.function outside of the loop. For (2), @tf.function has experimental_relax_shapes=True option that relaxes argument shapes that can avoid unnecessary retracing. For (3), please refer to https://www.tensorflow.org/guide/function#controlling_retracing and https://www.tensorflow.org/api_docs/python/tf/function for  more details.\n"
     ]
    },
    {
     "name": "stderr",
     "output_type": "stream",
     "text": [
      "WARNING:tensorflow:5 out of the last 132 calls to <function Model.make_test_function.<locals>.test_function at 0x0000019BA2C19280> triggered tf.function retracing. Tracing is expensive and the excessive number of tracings could be due to (1) creating @tf.function repeatedly in a loop, (2) passing tensors with different shapes, (3) passing Python objects instead of tensors. For (1), please define your @tf.function outside of the loop. For (2), @tf.function has experimental_relax_shapes=True option that relaxes argument shapes that can avoid unnecessary retracing. For (3), please refer to https://www.tensorflow.org/guide/function#controlling_retracing and https://www.tensorflow.org/api_docs/python/tf/function for  more details.\n"
     ]
    },
    {
     "name": "stdout",
     "output_type": "stream",
     "text": [
      "2/2 [==============================] - 2s 7ms/step - loss: 1.3863 - accuracy: 0.2045\n",
      "WARNING:tensorflow:6 out of the last 824 calls to <function Model.make_train_function.<locals>.train_function at 0x0000019B8B94BAF0> triggered tf.function retracing. Tracing is expensive and the excessive number of tracings could be due to (1) creating @tf.function repeatedly in a loop, (2) passing tensors with different shapes, (3) passing Python objects instead of tensors. For (1), please define your @tf.function outside of the loop. For (2), @tf.function has experimental_relax_shapes=True option that relaxes argument shapes that can avoid unnecessary retracing. For (3), please refer to https://www.tensorflow.org/guide/function#controlling_retracing and https://www.tensorflow.org/api_docs/python/tf/function for  more details.\n"
     ]
    },
    {
     "name": "stderr",
     "output_type": "stream",
     "text": [
      "WARNING:tensorflow:6 out of the last 824 calls to <function Model.make_train_function.<locals>.train_function at 0x0000019B8B94BAF0> triggered tf.function retracing. Tracing is expensive and the excessive number of tracings could be due to (1) creating @tf.function repeatedly in a loop, (2) passing tensors with different shapes, (3) passing Python objects instead of tensors. For (1), please define your @tf.function outside of the loop. For (2), @tf.function has experimental_relax_shapes=True option that relaxes argument shapes that can avoid unnecessary retracing. For (3), please refer to https://www.tensorflow.org/guide/function#controlling_retracing and https://www.tensorflow.org/api_docs/python/tf/function for  more details.\n"
     ]
    },
    {
     "name": "stdout",
     "output_type": "stream",
     "text": [
      "2/2 [==============================] - 6s 24ms/step - loss: 6.2241 - accuracy: 0.2500\n",
      "WARNING:tensorflow:6 out of the last 134 calls to <function Model.make_test_function.<locals>.test_function at 0x0000019B8B87CB80> triggered tf.function retracing. Tracing is expensive and the excessive number of tracings could be due to (1) creating @tf.function repeatedly in a loop, (2) passing tensors with different shapes, (3) passing Python objects instead of tensors. For (1), please define your @tf.function outside of the loop. For (2), @tf.function has experimental_relax_shapes=True option that relaxes argument shapes that can avoid unnecessary retracing. For (3), please refer to https://www.tensorflow.org/guide/function#controlling_retracing and https://www.tensorflow.org/api_docs/python/tf/function for  more details.\n"
     ]
    },
    {
     "name": "stderr",
     "output_type": "stream",
     "text": [
      "WARNING:tensorflow:6 out of the last 134 calls to <function Model.make_test_function.<locals>.test_function at 0x0000019B8B87CB80> triggered tf.function retracing. Tracing is expensive and the excessive number of tracings could be due to (1) creating @tf.function repeatedly in a loop, (2) passing tensors with different shapes, (3) passing Python objects instead of tensors. For (1), please define your @tf.function outside of the loop. For (2), @tf.function has experimental_relax_shapes=True option that relaxes argument shapes that can avoid unnecessary retracing. For (3), please refer to https://www.tensorflow.org/guide/function#controlling_retracing and https://www.tensorflow.org/api_docs/python/tf/function for  more details.\n"
     ]
    },
    {
     "name": "stdout",
     "output_type": "stream",
     "text": [
      "2/2 [==============================] - 3s 7ms/step - loss: 1.3863 - accuracy: 0.2273\n"
     ]
    }
   ],
   "source": [
    "for i, lr in enumerate(HP_LR.domain.values):\n",
    "    hparams = {HP_LR: lr}\n",
    "    run(f'logs/hparam_tuning/{i}', hparams)"
   ]
  },
  {
   "cell_type": "code",
   "execution_count": 84,
   "id": "bca6e160",
   "metadata": {},
   "outputs": [],
   "source": [
    "from tensorboard.plugins import projector\n",
    "import os\n",
    "\n",
    "log_dir=os.path.join('logs', 'nlp')\n",
    "if not os.path.exists(log_dir):\n",
    "    os.makedirs(log_dir)\n",
    "    \n",
    "with open(os.path.join(log_dir, 'metadata.tsv'), \"w\") as f:\n",
    "    for subwords in encoder.get_vocabulary():\n",
    "        f.write(f\"{subwords}\\n\")\n",
    "\n",
    "weights = tf.Variable(model.layers[1].get_weights()[0][1:])\n",
    "checkpoint = tf.train.Checkpoint(embedding=weights)\n",
    "checkpoint.save(os.path.join(log_dir, \"embedding.ckpt\"))\n",
    "\n",
    "config = projector.ProjectorConfig()\n",
    "embedding = config.embeddings.add()\n",
    "embedding.tensor_name = \"embedding/.ATTRIBUTES/VARIABLE_VALUE\"\n",
    "embedding.metadata_path = 'metadata.tsv'\n",
    "projector.visualize_embeddings(log_dir, config)"
   ]
  },
  {
   "cell_type": "code",
   "execution_count": null,
   "id": "e7b2375c",
   "metadata": {},
   "outputs": [],
   "source": []
  }
 ],
 "metadata": {
  "kernelspec": {
   "display_name": "Python [conda env:lectures] *",
   "language": "python",
   "name": "conda-env-lectures-py"
  },
  "language_info": {
   "codemirror_mode": {
    "name": "ipython",
    "version": 3
   },
   "file_extension": ".py",
   "mimetype": "text/x-python",
   "name": "python",
   "nbconvert_exporter": "python",
   "pygments_lexer": "ipython3",
   "version": "3.9.11"
  }
 },
 "nbformat": 4,
 "nbformat_minor": 5
}
