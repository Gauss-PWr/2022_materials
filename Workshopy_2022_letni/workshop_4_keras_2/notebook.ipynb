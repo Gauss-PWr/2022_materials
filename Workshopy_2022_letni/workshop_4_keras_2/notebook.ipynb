{
 "cells": [
  {
   "cell_type": "code",
   "execution_count": 1,
   "id": "7c7bcfdc",
   "metadata": {},
   "outputs": [
    {
     "name": "stderr",
     "output_type": "stream",
     "text": [
      "C:\\Users\\mikol\\anaconda3\\envs\\lectures\\lib\\site-packages\\tqdm\\auto.py:22: TqdmWarning: IProgress not found. Please update jupyter and ipywidgets. See https://ipywidgets.readthedocs.io/en/stable/user_install.html\n",
      "  from .autonotebook import tqdm as notebook_tqdm\n"
     ]
    }
   ],
   "source": [
    "import pandas as pd\n",
    "import numpy as np\n",
    "import tensorflow as tf\n",
    "from tensorflow import keras\n",
    "from tensorflow.keras import layers\n",
    "import tensorflow_datasets as tfds"
   ]
  },
  {
   "cell_type": "code",
   "execution_count": 2,
   "id": "c722e193",
   "metadata": {
    "scrolled": true
   },
   "outputs": [
    {
     "data": {
      "text/html": [
       "<div>\n",
       "<style scoped>\n",
       "    .dataframe tbody tr th:only-of-type {\n",
       "        vertical-align: middle;\n",
       "    }\n",
       "\n",
       "    .dataframe tbody tr th {\n",
       "        vertical-align: top;\n",
       "    }\n",
       "\n",
       "    .dataframe thead th {\n",
       "        text-align: right;\n",
       "    }\n",
       "</style>\n",
       "<table border=\"1\" class=\"dataframe\">\n",
       "  <thead>\n",
       "    <tr style=\"text-align: right;\">\n",
       "      <th></th>\n",
       "      <th>Cement (component 1)(kg in a m^3 mixture)</th>\n",
       "      <th>Blast Furnace Slag (component 2)(kg in a m^3 mixture)</th>\n",
       "      <th>Fly Ash (component 3)(kg in a m^3 mixture)</th>\n",
       "      <th>Water  (component 4)(kg in a m^3 mixture)</th>\n",
       "      <th>Superplasticizer (component 5)(kg in a m^3 mixture)</th>\n",
       "      <th>Coarse Aggregate  (component 6)(kg in a m^3 mixture)</th>\n",
       "      <th>Fine Aggregate (component 7)(kg in a m^3 mixture)</th>\n",
       "      <th>Age (day)</th>\n",
       "      <th>Concrete compressive strength(MPa, megapascals)</th>\n",
       "    </tr>\n",
       "  </thead>\n",
       "  <tbody>\n",
       "    <tr>\n",
       "      <th>0</th>\n",
       "      <td>540.0</td>\n",
       "      <td>0.0</td>\n",
       "      <td>0.0</td>\n",
       "      <td>162.0</td>\n",
       "      <td>2.5</td>\n",
       "      <td>1040.0</td>\n",
       "      <td>676.0</td>\n",
       "      <td>28</td>\n",
       "      <td>79.986111</td>\n",
       "    </tr>\n",
       "    <tr>\n",
       "      <th>1</th>\n",
       "      <td>540.0</td>\n",
       "      <td>0.0</td>\n",
       "      <td>0.0</td>\n",
       "      <td>162.0</td>\n",
       "      <td>2.5</td>\n",
       "      <td>1055.0</td>\n",
       "      <td>676.0</td>\n",
       "      <td>28</td>\n",
       "      <td>61.887366</td>\n",
       "    </tr>\n",
       "    <tr>\n",
       "      <th>2</th>\n",
       "      <td>332.5</td>\n",
       "      <td>142.5</td>\n",
       "      <td>0.0</td>\n",
       "      <td>228.0</td>\n",
       "      <td>0.0</td>\n",
       "      <td>932.0</td>\n",
       "      <td>594.0</td>\n",
       "      <td>270</td>\n",
       "      <td>40.269535</td>\n",
       "    </tr>\n",
       "    <tr>\n",
       "      <th>3</th>\n",
       "      <td>332.5</td>\n",
       "      <td>142.5</td>\n",
       "      <td>0.0</td>\n",
       "      <td>228.0</td>\n",
       "      <td>0.0</td>\n",
       "      <td>932.0</td>\n",
       "      <td>594.0</td>\n",
       "      <td>365</td>\n",
       "      <td>41.052780</td>\n",
       "    </tr>\n",
       "    <tr>\n",
       "      <th>4</th>\n",
       "      <td>198.6</td>\n",
       "      <td>132.4</td>\n",
       "      <td>0.0</td>\n",
       "      <td>192.0</td>\n",
       "      <td>0.0</td>\n",
       "      <td>978.4</td>\n",
       "      <td>825.5</td>\n",
       "      <td>360</td>\n",
       "      <td>44.296075</td>\n",
       "    </tr>\n",
       "  </tbody>\n",
       "</table>\n",
       "</div>"
      ],
      "text/plain": [
       "   Cement (component 1)(kg in a m^3 mixture)  \\\n",
       "0                                      540.0   \n",
       "1                                      540.0   \n",
       "2                                      332.5   \n",
       "3                                      332.5   \n",
       "4                                      198.6   \n",
       "\n",
       "   Blast Furnace Slag (component 2)(kg in a m^3 mixture)  \\\n",
       "0                                                0.0       \n",
       "1                                                0.0       \n",
       "2                                              142.5       \n",
       "3                                              142.5       \n",
       "4                                              132.4       \n",
       "\n",
       "   Fly Ash (component 3)(kg in a m^3 mixture)  \\\n",
       "0                                         0.0   \n",
       "1                                         0.0   \n",
       "2                                         0.0   \n",
       "3                                         0.0   \n",
       "4                                         0.0   \n",
       "\n",
       "   Water  (component 4)(kg in a m^3 mixture)  \\\n",
       "0                                      162.0   \n",
       "1                                      162.0   \n",
       "2                                      228.0   \n",
       "3                                      228.0   \n",
       "4                                      192.0   \n",
       "\n",
       "   Superplasticizer (component 5)(kg in a m^3 mixture)  \\\n",
       "0                                                2.5     \n",
       "1                                                2.5     \n",
       "2                                                0.0     \n",
       "3                                                0.0     \n",
       "4                                                0.0     \n",
       "\n",
       "   Coarse Aggregate  (component 6)(kg in a m^3 mixture)  \\\n",
       "0                                             1040.0      \n",
       "1                                             1055.0      \n",
       "2                                              932.0      \n",
       "3                                              932.0      \n",
       "4                                              978.4      \n",
       "\n",
       "   Fine Aggregate (component 7)(kg in a m^3 mixture)  Age (day)  \\\n",
       "0                                              676.0         28   \n",
       "1                                              676.0         28   \n",
       "2                                              594.0        270   \n",
       "3                                              594.0        365   \n",
       "4                                              825.5        360   \n",
       "\n",
       "   Concrete compressive strength(MPa, megapascals)   \n",
       "0                                         79.986111  \n",
       "1                                         61.887366  \n",
       "2                                         40.269535  \n",
       "3                                         41.052780  \n",
       "4                                         44.296075  "
      ]
     },
     "execution_count": 2,
     "metadata": {},
     "output_type": "execute_result"
    }
   ],
   "source": [
    "url = \"https://archive.ics.uci.edu/ml/machine-learning-databases/concrete/compressive/Concrete_Data.xls\"\n",
    "\n",
    "df = pd.read_excel(url)\n",
    "df.head()"
   ]
  },
  {
   "cell_type": "code",
   "execution_count": 3,
   "id": "e99b99ef",
   "metadata": {},
   "outputs": [],
   "source": [
    "train_df = df.sample(frac=0.8, random_state=42)\n",
    "test_df = df.drop(train_df.index)"
   ]
  },
  {
   "cell_type": "code",
   "execution_count": 4,
   "id": "423f1c38",
   "metadata": {},
   "outputs": [],
   "source": [
    "train_X, train_y = train_df.iloc[:, :-1], train_df.iloc[:, -1]"
   ]
  },
  {
   "cell_type": "code",
   "execution_count": 5,
   "id": "99e53155",
   "metadata": {},
   "outputs": [],
   "source": [
    "test_X, test_y = test_df.iloc[:, :-1], test_df.iloc[:, -1]"
   ]
  },
  {
   "cell_type": "markdown",
   "id": "aaef5436",
   "metadata": {},
   "source": [
    "## Enhancements"
   ]
  },
  {
   "cell_type": "markdown",
   "id": "8bc1d223",
   "metadata": {},
   "source": [
    "### Dropout\n",
    "\n",
    "![dropout](media\\dropout.png)"
   ]
  },
  {
   "cell_type": "markdown",
   "id": "94cad126",
   "metadata": {},
   "source": [
    "### L1/L2 Weights Regularization\n",
    "\n",
    "![regularization.png](media\\regularization.png)"
   ]
  },
  {
   "cell_type": "code",
   "execution_count": 6,
   "id": "e519f462",
   "metadata": {},
   "outputs": [],
   "source": [
    "drop_rate = .1\n",
    "lr = .001\n",
    "hidden_size = 16\n",
    "epochs = 250\n",
    "val_frac = .25\n",
    "metric = keras.losses.MeanSquaredError()\n",
    "regularizer = 'l1_l2'\n",
    "initializer = 'he_normal'"
   ]
  },
  {
   "cell_type": "code",
   "execution_count": 7,
   "id": "50668477",
   "metadata": {},
   "outputs": [],
   "source": [
    "normalizer = layers.Normalization(axis=1)\n",
    "enhanced_dense = layers.Dense(hidden_size, activation='relu', kernel_initializer=initializer, kernel_regularizer=regularizer)\n",
    "dropout = layers.Dropout(drop_rate)\n",
    "output_dense = layers.Dense(1, kernel_initializer=initializer, kernel_regularizer=regularizer)"
   ]
  },
  {
   "cell_type": "code",
   "execution_count": 10,
   "id": "c84a6814",
   "metadata": {},
   "outputs": [
    {
     "data": {
      "text/plain": [
       "(array([266.  , 362.6 , 389.9 , 362.6 , 145.  , 276.4 , 149.  , 251.81,\n",
       "        212.57, 393.  , 313.  , 170.3 , 469.  , 323.7 , 173.54, 228.  ,\n",
       "        318.  , 250.2 , 273.  , 165.  ]),\n",
       " <tf.Tensor: shape=(20,), dtype=float32, numpy=\n",
       " array([295.55557, 402.88892, 433.22223, 402.88892, 161.11111, 307.1111 ,\n",
       "        165.55556, 279.7889 , 236.1889 , 436.6667 , 347.7778 , 189.22223,\n",
       "        521.11115,   0.     , 192.82222,   0.     , 353.33334, 278.     ,\n",
       "        303.33334, 183.33334], dtype=float32)>)"
      ]
     },
     "execution_count": 10,
     "metadata": {},
     "output_type": "execute_result"
    }
   ],
   "source": [
    "np.array(train_X.iloc[:20, 0]), dropout(np.array(train_X.iloc[:, 0], dtype=np.float32), training=True)[:20]"
   ]
  },
  {
   "cell_type": "code",
   "execution_count": 12,
   "id": "812f89d4",
   "metadata": {},
   "outputs": [],
   "source": [
    "enhanced_model = keras.Sequential([\n",
    "    normalizer,\n",
    "    enhanced_dense,\n",
    "    dropout,\n",
    "    output_dense\n",
    "])"
   ]
  },
  {
   "cell_type": "code",
   "execution_count": 13,
   "id": "2d4d0cca",
   "metadata": {},
   "outputs": [],
   "source": [
    "enhanced_model.compile(\n",
    "    optimizer=tf.optimizers.Adam(learning_rate=lr),\n",
    "    loss=metric\n",
    ")"
   ]
  },
  {
   "cell_type": "code",
   "execution_count": 14,
   "id": "bbbeffb7",
   "metadata": {},
   "outputs": [],
   "source": [
    "history = enhanced_model.fit(train_X, train_y, epochs=epochs, verbose=0, validation_split=val_frac).history"
   ]
  },
  {
   "cell_type": "code",
   "execution_count": 15,
   "id": "c4d55d82",
   "metadata": {},
   "outputs": [
    {
     "name": "stdout",
     "output_type": "stream",
     "text": [
      "Model: \"sequential\"\n",
      "_________________________________________________________________\n",
      " Layer (type)                Output Shape              Param #   \n",
      "=================================================================\n",
      " normalization (Normalizatio  (None, 8)                17        \n",
      " n)                                                              \n",
      "                                                                 \n",
      " dense (Dense)               (None, 16)                144       \n",
      "                                                                 \n",
      " dropout (Dropout)           (None, 16)                0         \n",
      "                                                                 \n",
      " dense_1 (Dense)             (None, 1)                 17        \n",
      "                                                                 \n",
      "=================================================================\n",
      "Total params: 178\n",
      "Trainable params: 161\n",
      "Non-trainable params: 17\n",
      "_________________________________________________________________\n"
     ]
    }
   ],
   "source": [
    "enhanced_model.summary()"
   ]
  },
  {
   "cell_type": "code",
   "execution_count": 16,
   "id": "5846c979",
   "metadata": {},
   "outputs": [
    {
     "data": {
      "text/plain": [
       "<AxesSubplot:>"
      ]
     },
     "execution_count": 16,
     "metadata": {},
     "output_type": "execute_result"
    },
    {
     "data": {
      "image/png": "[encoded data removed]",
      "text/plain": [
       "<Figure size 432x288 with 1 Axes>"
      ]
     },
     "metadata": {
      "needs_background": "light"
     },
     "output_type": "display_data"
    }
   ],
   "source": [
    "pd.DataFrame(history).plot()"
   ]
  },
  {
   "cell_type": "code",
   "execution_count": 17,
   "id": "57607af2",
   "metadata": {},
   "outputs": [
    {
     "name": "stdout",
     "output_type": "stream",
     "text": [
      "7/7 [==============================] - 0s 4ms/step - loss: 85.0564\n"
     ]
    },
    {
     "data": {
      "text/plain": [
       "85.05641174316406"
      ]
     },
     "execution_count": 17,
     "metadata": {},
     "output_type": "execute_result"
    }
   ],
   "source": [
    "enhanced_model.evaluate(test_X, test_y)"
   ]
  },
  {
   "cell_type": "markdown",
   "id": "9d6ea913",
   "metadata": {},
   "source": [
    "## Multioutput"
   ]
  },
  {
   "cell_type": "markdown",
   "id": "724cbed3",
   "metadata": {},
   "source": [
    "![multi](media\\multi.svg)"
   ]
  },
  {
   "cell_type": "code",
   "execution_count": 18,
   "id": "7df5e0ee",
   "metadata": {},
   "outputs": [
    {
     "data": {
      "text/html": [
       "<div>\n",
       "<style scoped>\n",
       "    .dataframe tbody tr th:only-of-type {\n",
       "        vertical-align: middle;\n",
       "    }\n",
       "\n",
       "    .dataframe tbody tr th {\n",
       "        vertical-align: top;\n",
       "    }\n",
       "\n",
       "    .dataframe thead th {\n",
       "        text-align: right;\n",
       "    }\n",
       "</style>\n",
       "<table border=\"1\" class=\"dataframe\">\n",
       "  <thead>\n",
       "    <tr style=\"text-align: right;\">\n",
       "      <th></th>\n",
       "      <th>fixed acidity</th>\n",
       "      <th>volatile acidity</th>\n",
       "      <th>citric acid</th>\n",
       "      <th>residual sugar</th>\n",
       "      <th>chlorides</th>\n",
       "      <th>free sulfur dioxide</th>\n",
       "      <th>total sulfur dioxide</th>\n",
       "      <th>density</th>\n",
       "      <th>pH</th>\n",
       "      <th>sulphates</th>\n",
       "      <th>alcohol</th>\n",
       "      <th>quality</th>\n",
       "      <th>color</th>\n",
       "    </tr>\n",
       "  </thead>\n",
       "  <tbody>\n",
       "    <tr>\n",
       "      <th>0</th>\n",
       "      <td>7.4</td>\n",
       "      <td>0.70</td>\n",
       "      <td>0.00</td>\n",
       "      <td>1.9</td>\n",
       "      <td>0.076</td>\n",
       "      <td>11.0</td>\n",
       "      <td>34.0</td>\n",
       "      <td>0.9978</td>\n",
       "      <td>3.51</td>\n",
       "      <td>0.56</td>\n",
       "      <td>9.4</td>\n",
       "      <td>5.0</td>\n",
       "      <td>1</td>\n",
       "    </tr>\n",
       "    <tr>\n",
       "      <th>1</th>\n",
       "      <td>7.8</td>\n",
       "      <td>0.88</td>\n",
       "      <td>0.00</td>\n",
       "      <td>2.6</td>\n",
       "      <td>0.098</td>\n",
       "      <td>25.0</td>\n",
       "      <td>67.0</td>\n",
       "      <td>0.9968</td>\n",
       "      <td>3.20</td>\n",
       "      <td>0.68</td>\n",
       "      <td>9.8</td>\n",
       "      <td>5.0</td>\n",
       "      <td>1</td>\n",
       "    </tr>\n",
       "    <tr>\n",
       "      <th>2</th>\n",
       "      <td>7.8</td>\n",
       "      <td>0.76</td>\n",
       "      <td>0.04</td>\n",
       "      <td>2.3</td>\n",
       "      <td>0.092</td>\n",
       "      <td>15.0</td>\n",
       "      <td>54.0</td>\n",
       "      <td>0.9970</td>\n",
       "      <td>3.26</td>\n",
       "      <td>0.65</td>\n",
       "      <td>9.8</td>\n",
       "      <td>5.0</td>\n",
       "      <td>1</td>\n",
       "    </tr>\n",
       "    <tr>\n",
       "      <th>3</th>\n",
       "      <td>11.2</td>\n",
       "      <td>0.28</td>\n",
       "      <td>0.56</td>\n",
       "      <td>1.9</td>\n",
       "      <td>0.075</td>\n",
       "      <td>17.0</td>\n",
       "      <td>60.0</td>\n",
       "      <td>0.9980</td>\n",
       "      <td>3.16</td>\n",
       "      <td>0.58</td>\n",
       "      <td>9.8</td>\n",
       "      <td>6.0</td>\n",
       "      <td>1</td>\n",
       "    </tr>\n",
       "    <tr>\n",
       "      <th>4</th>\n",
       "      <td>7.4</td>\n",
       "      <td>0.70</td>\n",
       "      <td>0.00</td>\n",
       "      <td>1.9</td>\n",
       "      <td>0.076</td>\n",
       "      <td>11.0</td>\n",
       "      <td>34.0</td>\n",
       "      <td>0.9978</td>\n",
       "      <td>3.51</td>\n",
       "      <td>0.56</td>\n",
       "      <td>9.4</td>\n",
       "      <td>5.0</td>\n",
       "      <td>1</td>\n",
       "    </tr>\n",
       "  </tbody>\n",
       "</table>\n",
       "</div>"
      ],
      "text/plain": [
       "   fixed acidity  volatile acidity  citric acid  residual sugar  chlorides  \\\n",
       "0            7.4              0.70         0.00             1.9      0.076   \n",
       "1            7.8              0.88         0.00             2.6      0.098   \n",
       "2            7.8              0.76         0.04             2.3      0.092   \n",
       "3           11.2              0.28         0.56             1.9      0.075   \n",
       "4            7.4              0.70         0.00             1.9      0.076   \n",
       "\n",
       "   free sulfur dioxide  total sulfur dioxide  density    pH  sulphates  \\\n",
       "0                 11.0                  34.0   0.9978  3.51       0.56   \n",
       "1                 25.0                  67.0   0.9968  3.20       0.68   \n",
       "2                 15.0                  54.0   0.9970  3.26       0.65   \n",
       "3                 17.0                  60.0   0.9980  3.16       0.58   \n",
       "4                 11.0                  34.0   0.9978  3.51       0.56   \n",
       "\n",
       "   alcohol  quality  color  \n",
       "0      9.4      5.0      1  \n",
       "1      9.8      5.0      1  \n",
       "2      9.8      5.0      1  \n",
       "3      9.8      6.0      1  \n",
       "4      9.4      5.0      1  "
      ]
     },
     "execution_count": 18,
     "metadata": {},
     "output_type": "execute_result"
    }
   ],
   "source": [
    "base_path = 'https://archive.ics.uci.edu/ml/machine-learning-databases/wine-quality/'\n",
    "\n",
    "red = pd.read_csv(f'{base_path}winequality-red.csv', sep=';')\n",
    "white = pd.read_csv(f'{base_path}winequality-white.csv', sep=';')\n",
    "red['color'] = 1\n",
    "white['color'] = 0\n",
    "df = pd.concat([red, white])\n",
    "df['quality'] = df.quality.astype(np.float32)\n",
    "df['color'] = df.color.astype(np.int64)\n",
    "df.head()"
   ]
  },
  {
   "cell_type": "code",
   "execution_count": 19,
   "id": "08cc416b",
   "metadata": {},
   "outputs": [],
   "source": [
    "train_df = df.sample(frac=0.8, random_state=42)\n",
    "test_df = df.drop(train_df.index)"
   ]
  },
  {
   "cell_type": "code",
   "execution_count": 20,
   "id": "a6cec94f",
   "metadata": {},
   "outputs": [],
   "source": [
    "train_X, train_y = train_df.iloc[:, :-2], train_df.iloc[:, -2:]"
   ]
  },
  {
   "cell_type": "code",
   "execution_count": 21,
   "id": "77109cce",
   "metadata": {},
   "outputs": [],
   "source": [
    "test_X, test_y = test_df.iloc[:, :-2], test_df.iloc[:, -2:]"
   ]
  },
  {
   "cell_type": "code",
   "execution_count": 22,
   "id": "88bf4335",
   "metadata": {},
   "outputs": [],
   "source": [
    "inputs = keras.Input(shape=(train_X.shape[1],))"
   ]
  },
  {
   "cell_type": "code",
   "execution_count": 23,
   "id": "962e7ddc",
   "metadata": {
    "hideOutput": true
   },
   "outputs": [],
   "source": [
    "normalizer = layers.Normalization(axis=-1)\n",
    "x = normalizer(inputs)"
   ]
  },
  {
   "cell_type": "code",
   "execution_count": 24,
   "id": "b3e8e0bc",
   "metadata": {},
   "outputs": [],
   "source": [
    "dense = layers.Dense(hidden_size, activation='relu')\n",
    "x = dense(x)"
   ]
  },
  {
   "cell_type": "code",
   "execution_count": 25,
   "id": "05568436",
   "metadata": {},
   "outputs": [],
   "source": [
    "quality = layers.Dense(1, name='quality')(x)\n",
    "color = layers.Dense(2, name='color')(x)"
   ]
  },
  {
   "cell_type": "code",
   "execution_count": 26,
   "id": "83ba8386",
   "metadata": {},
   "outputs": [
    {
     "name": "stdout",
     "output_type": "stream",
     "text": [
      "Model: \"model\"\n",
      "__________________________________________________________________________________________________\n",
      " Layer (type)                   Output Shape         Param #     Connected to                     \n",
      "==================================================================================================\n",
      " input_1 (InputLayer)           [(None, 11)]         0           []                               \n",
      "                                                                                                  \n",
      " normalization_1 (Normalization  (None, 11)          23          ['input_1[0][0]']                \n",
      " )                                                                                                \n",
      "                                                                                                  \n",
      " dense_2 (Dense)                (None, 16)           192         ['normalization_1[0][0]']        \n",
      "                                                                                                  \n",
      " quality (Dense)                (None, 1)            17          ['dense_2[0][0]']                \n",
      "                                                                                                  \n",
      " color (Dense)                  (None, 2)            34          ['dense_2[0][0]']                \n",
      "                                                                                                  \n",
      "==================================================================================================\n",
      "Total params: 266\n",
      "Trainable params: 243\n",
      "Non-trainable params: 23\n",
      "__________________________________________________________________________________________________\n"
     ]
    }
   ],
   "source": [
    "model = keras.Model(inputs=inputs, outputs=[quality, color])\n",
    "model.summary()"
   ]
  },
  {
   "cell_type": "code",
   "execution_count": 27,
   "id": "ee4e8ff5",
   "metadata": {},
   "outputs": [],
   "source": [
    "model.compile(\n",
    "    optimizer=tf.optimizers.Adam(learning_rate=lr),\n",
    "    loss={\n",
    "        'quality': keras.losses.MeanSquaredError(),\n",
    "        'color': keras.losses.SparseCategoricalCrossentropy(from_logits=True)\n",
    "    },\n",
    "    metrics={'color': tf.metrics.SparseCategoricalAccuracy()}\n",
    ")"
   ]
  },
  {
   "cell_type": "code",
   "execution_count": 30,
   "id": "fcae8f15",
   "metadata": {},
   "outputs": [
    {
     "name": "stdout",
     "output_type": "stream",
     "text": [
      "Epoch 1/100\n",
      "122/122 - 0s - loss: 0.6099 - quality_loss: 0.5416 - color_loss: 0.0683 - color_sparse_categorical_accuracy: 0.9797 - val_loss: 0.7114 - val_quality_loss: 0.6545 - val_color_loss: 0.0569 - val_color_sparse_categorical_accuracy: 0.9823 - 438ms/epoch - 4ms/step\n",
      "Epoch 2/100\n",
      "122/122 - 0s - loss: 0.6128 - quality_loss: 0.5458 - color_loss: 0.0669 - color_sparse_categorical_accuracy: 0.9805 - val_loss: 0.6232 - val_quality_loss: 0.5644 - val_color_loss: 0.0588 - val_color_sparse_categorical_accuracy: 0.9808 - 461ms/epoch - 4ms/step\n",
      "Epoch 3/100\n",
      "122/122 - 0s - loss: 0.6136 - quality_loss: 0.5471 - color_loss: 0.0665 - color_sparse_categorical_accuracy: 0.9802 - val_loss: 0.6043 - val_quality_loss: 0.5453 - val_color_loss: 0.0590 - val_color_sparse_categorical_accuracy: 0.9815 - 467ms/epoch - 4ms/step\n",
      "Epoch 4/100\n",
      "122/122 - 0s - loss: 0.6443 - quality_loss: 0.5773 - color_loss: 0.0670 - color_sparse_categorical_accuracy: 0.9818 - val_loss: 0.5990 - val_quality_loss: 0.5426 - val_color_loss: 0.0564 - val_color_sparse_categorical_accuracy: 0.9823 - 428ms/epoch - 4ms/step\n",
      "Epoch 5/100\n",
      "122/122 - 0s - loss: 0.6167 - quality_loss: 0.5478 - color_loss: 0.0689 - color_sparse_categorical_accuracy: 0.9802 - val_loss: 0.7617 - val_quality_loss: 0.7020 - val_color_loss: 0.0597 - val_color_sparse_categorical_accuracy: 0.9800 - 475ms/epoch - 4ms/step\n",
      "Epoch 6/100\n",
      "122/122 - 1s - loss: 0.6234 - quality_loss: 0.5574 - color_loss: 0.0660 - color_sparse_categorical_accuracy: 0.9797 - val_loss: 0.6088 - val_quality_loss: 0.5494 - val_color_loss: 0.0594 - val_color_sparse_categorical_accuracy: 0.9815 - 505ms/epoch - 4ms/step\n",
      "Epoch 7/100\n",
      "122/122 - 0s - loss: 0.6087 - quality_loss: 0.5434 - color_loss: 0.0652 - color_sparse_categorical_accuracy: 0.9813 - val_loss: 0.6208 - val_quality_loss: 0.5647 - val_color_loss: 0.0560 - val_color_sparse_categorical_accuracy: 0.9838 - 418ms/epoch - 3ms/step\n",
      "Epoch 8/100\n",
      "122/122 - 0s - loss: 0.6090 - quality_loss: 0.5426 - color_loss: 0.0664 - color_sparse_categorical_accuracy: 0.9790 - val_loss: 0.6094 - val_quality_loss: 0.5528 - val_color_loss: 0.0566 - val_color_sparse_categorical_accuracy: 0.9823 - 398ms/epoch - 3ms/step\n",
      "Epoch 9/100\n",
      "122/122 - 0s - loss: 0.6197 - quality_loss: 0.5521 - color_loss: 0.0675 - color_sparse_categorical_accuracy: 0.9826 - val_loss: 0.6118 - val_quality_loss: 0.5556 - val_color_loss: 0.0562 - val_color_sparse_categorical_accuracy: 0.9831 - 364ms/epoch - 3ms/step\n",
      "Epoch 10/100\n",
      "122/122 - 0s - loss: 0.6312 - quality_loss: 0.5657 - color_loss: 0.0655 - color_sparse_categorical_accuracy: 0.9815 - val_loss: 0.6093 - val_quality_loss: 0.5535 - val_color_loss: 0.0558 - val_color_sparse_categorical_accuracy: 0.9831 - 384ms/epoch - 3ms/step\n",
      "Epoch 11/100\n",
      "122/122 - 0s - loss: 0.6322 - quality_loss: 0.5622 - color_loss: 0.0700 - color_sparse_categorical_accuracy: 0.9785 - val_loss: 0.5999 - val_quality_loss: 0.5399 - val_color_loss: 0.0600 - val_color_sparse_categorical_accuracy: 0.9808 - 392ms/epoch - 3ms/step\n",
      "Epoch 12/100\n",
      "122/122 - 0s - loss: 0.6166 - quality_loss: 0.5499 - color_loss: 0.0667 - color_sparse_categorical_accuracy: 0.9802 - val_loss: 0.6022 - val_quality_loss: 0.5468 - val_color_loss: 0.0554 - val_color_sparse_categorical_accuracy: 0.9823 - 397ms/epoch - 3ms/step\n",
      "Epoch 13/100\n",
      "122/122 - 0s - loss: 0.6336 - quality_loss: 0.5687 - color_loss: 0.0648 - color_sparse_categorical_accuracy: 0.9815 - val_loss: 0.6038 - val_quality_loss: 0.5468 - val_color_loss: 0.0570 - val_color_sparse_categorical_accuracy: 0.9815 - 401ms/epoch - 3ms/step\n",
      "Epoch 14/100\n",
      "122/122 - 0s - loss: 0.6245 - quality_loss: 0.5577 - color_loss: 0.0668 - color_sparse_categorical_accuracy: 0.9810 - val_loss: 0.6057 - val_quality_loss: 0.5501 - val_color_loss: 0.0556 - val_color_sparse_categorical_accuracy: 0.9831 - 355ms/epoch - 3ms/step\n",
      "Epoch 15/100\n",
      "122/122 - 0s - loss: 0.6267 - quality_loss: 0.5606 - color_loss: 0.0660 - color_sparse_categorical_accuracy: 0.9805 - val_loss: 0.5987 - val_quality_loss: 0.5436 - val_color_loss: 0.0550 - val_color_sparse_categorical_accuracy: 0.9846 - 396ms/epoch - 3ms/step\n",
      "Epoch 16/100\n",
      "122/122 - 0s - loss: 0.6537 - quality_loss: 0.5882 - color_loss: 0.0654 - color_sparse_categorical_accuracy: 0.9808 - val_loss: 0.5980 - val_quality_loss: 0.5431 - val_color_loss: 0.0548 - val_color_sparse_categorical_accuracy: 0.9862 - 418ms/epoch - 3ms/step\n",
      "Epoch 17/100\n",
      "122/122 - 0s - loss: 0.6180 - quality_loss: 0.5502 - color_loss: 0.0678 - color_sparse_categorical_accuracy: 0.9782 - val_loss: 0.6094 - val_quality_loss: 0.5512 - val_color_loss: 0.0583 - val_color_sparse_categorical_accuracy: 0.9815 - 412ms/epoch - 3ms/step\n",
      "Epoch 18/100\n",
      "122/122 - 0s - loss: 0.6046 - quality_loss: 0.5380 - color_loss: 0.0666 - color_sparse_categorical_accuracy: 0.9802 - val_loss: 0.6644 - val_quality_loss: 0.5959 - val_color_loss: 0.0685 - val_color_sparse_categorical_accuracy: 0.9800 - 387ms/epoch - 3ms/step\n",
      "Epoch 19/100\n",
      "122/122 - 0s - loss: 0.6144 - quality_loss: 0.5455 - color_loss: 0.0689 - color_sparse_categorical_accuracy: 0.9790 - val_loss: 0.6196 - val_quality_loss: 0.5453 - val_color_loss: 0.0742 - val_color_sparse_categorical_accuracy: 0.9746 - 377ms/epoch - 3ms/step\n",
      "Epoch 20/100\n",
      "122/122 - 0s - loss: 0.6037 - quality_loss: 0.5391 - color_loss: 0.0646 - color_sparse_categorical_accuracy: 0.9820 - val_loss: 0.6010 - val_quality_loss: 0.5426 - val_color_loss: 0.0584 - val_color_sparse_categorical_accuracy: 0.9823 - 395ms/epoch - 3ms/step\n",
      "Epoch 21/100\n",
      "122/122 - 0s - loss: 0.6271 - quality_loss: 0.5608 - color_loss: 0.0663 - color_sparse_categorical_accuracy: 0.9820 - val_loss: 0.6117 - val_quality_loss: 0.5574 - val_color_loss: 0.0544 - val_color_sparse_categorical_accuracy: 0.9854 - 419ms/epoch - 3ms/step\n",
      "Epoch 22/100\n",
      "122/122 - 0s - loss: 0.6001 - quality_loss: 0.5348 - color_loss: 0.0653 - color_sparse_categorical_accuracy: 0.9818 - val_loss: 0.6236 - val_quality_loss: 0.5612 - val_color_loss: 0.0623 - val_color_sparse_categorical_accuracy: 0.9777 - 420ms/epoch - 3ms/step\n",
      "Epoch 23/100\n",
      "122/122 - 0s - loss: 0.6145 - quality_loss: 0.5496 - color_loss: 0.0649 - color_sparse_categorical_accuracy: 0.9810 - val_loss: 0.6061 - val_quality_loss: 0.5505 - val_color_loss: 0.0555 - val_color_sparse_categorical_accuracy: 0.9823 - 410ms/epoch - 3ms/step\n",
      "Epoch 24/100\n",
      "122/122 - 0s - loss: 0.6316 - quality_loss: 0.5659 - color_loss: 0.0657 - color_sparse_categorical_accuracy: 0.9792 - val_loss: 0.6034 - val_quality_loss: 0.5494 - val_color_loss: 0.0540 - val_color_sparse_categorical_accuracy: 0.9846 - 383ms/epoch - 3ms/step\n",
      "Epoch 25/100\n",
      "122/122 - 0s - loss: 0.5977 - quality_loss: 0.5326 - color_loss: 0.0651 - color_sparse_categorical_accuracy: 0.9810 - val_loss: 0.6041 - val_quality_loss: 0.5499 - val_color_loss: 0.0542 - val_color_sparse_categorical_accuracy: 0.9862 - 345ms/epoch - 3ms/step\n",
      "Epoch 26/100\n",
      "122/122 - 0s - loss: 0.6196 - quality_loss: 0.5540 - color_loss: 0.0656 - color_sparse_categorical_accuracy: 0.9813 - val_loss: 0.6047 - val_quality_loss: 0.5505 - val_color_loss: 0.0543 - val_color_sparse_categorical_accuracy: 0.9846 - 390ms/epoch - 3ms/step\n",
      "Epoch 27/100\n",
      "122/122 - 0s - loss: 0.6108 - quality_loss: 0.5449 - color_loss: 0.0659 - color_sparse_categorical_accuracy: 0.9805 - val_loss: 0.6568 - val_quality_loss: 0.6012 - val_color_loss: 0.0556 - val_color_sparse_categorical_accuracy: 0.9831 - 400ms/epoch - 3ms/step\n",
      "Epoch 28/100\n",
      "122/122 - 0s - loss: 0.6096 - quality_loss: 0.5451 - color_loss: 0.0645 - color_sparse_categorical_accuracy: 0.9797 - val_loss: 0.6014 - val_quality_loss: 0.5470 - val_color_loss: 0.0544 - val_color_sparse_categorical_accuracy: 0.9846 - 384ms/epoch - 3ms/step\n",
      "Epoch 29/100\n",
      "122/122 - 0s - loss: 0.6082 - quality_loss: 0.5441 - color_loss: 0.0640 - color_sparse_categorical_accuracy: 0.9818 - val_loss: 0.5971 - val_quality_loss: 0.5414 - val_color_loss: 0.0557 - val_color_sparse_categorical_accuracy: 0.9823 - 381ms/epoch - 3ms/step\n",
      "Epoch 30/100\n",
      "122/122 - 0s - loss: 0.6188 - quality_loss: 0.5517 - color_loss: 0.0671 - color_sparse_categorical_accuracy: 0.9810 - val_loss: 0.6015 - val_quality_loss: 0.5472 - val_color_loss: 0.0543 - val_color_sparse_categorical_accuracy: 0.9846 - 386ms/epoch - 3ms/step\n",
      "Epoch 31/100\n"
     ]
    },
    {
     "name": "stdout",
     "output_type": "stream",
     "text": [
      "122/122 - 0s - loss: 0.6060 - quality_loss: 0.5417 - color_loss: 0.0642 - color_sparse_categorical_accuracy: 0.9810 - val_loss: 0.6197 - val_quality_loss: 0.5632 - val_color_loss: 0.0566 - val_color_sparse_categorical_accuracy: 0.9815 - 372ms/epoch - 3ms/step\n",
      "Epoch 32/100\n",
      "122/122 - 0s - loss: 0.6063 - quality_loss: 0.5411 - color_loss: 0.0652 - color_sparse_categorical_accuracy: 0.9818 - val_loss: 0.6159 - val_quality_loss: 0.5605 - val_color_loss: 0.0554 - val_color_sparse_categorical_accuracy: 0.9823 - 417ms/epoch - 3ms/step\n",
      "Epoch 33/100\n",
      "122/122 - 0s - loss: 0.6269 - quality_loss: 0.5602 - color_loss: 0.0667 - color_sparse_categorical_accuracy: 0.9805 - val_loss: 0.6251 - val_quality_loss: 0.5449 - val_color_loss: 0.0801 - val_color_sparse_categorical_accuracy: 0.9692 - 333ms/epoch - 3ms/step\n",
      "Epoch 34/100\n",
      "122/122 - 0s - loss: 0.6272 - quality_loss: 0.5603 - color_loss: 0.0669 - color_sparse_categorical_accuracy: 0.9800 - val_loss: 0.6474 - val_quality_loss: 0.5927 - val_color_loss: 0.0547 - val_color_sparse_categorical_accuracy: 0.9831 - 357ms/epoch - 3ms/step\n",
      "Epoch 35/100\n",
      "122/122 - 0s - loss: 0.6275 - quality_loss: 0.5620 - color_loss: 0.0655 - color_sparse_categorical_accuracy: 0.9800 - val_loss: 0.6083 - val_quality_loss: 0.5548 - val_color_loss: 0.0535 - val_color_sparse_categorical_accuracy: 0.9846 - 349ms/epoch - 3ms/step\n",
      "Epoch 36/100\n",
      "122/122 - 0s - loss: 0.6402 - quality_loss: 0.5769 - color_loss: 0.0632 - color_sparse_categorical_accuracy: 0.9826 - val_loss: 0.6291 - val_quality_loss: 0.5756 - val_color_loss: 0.0534 - val_color_sparse_categorical_accuracy: 0.9862 - 379ms/epoch - 3ms/step\n",
      "Epoch 37/100\n",
      "122/122 - 0s - loss: 0.6078 - quality_loss: 0.5448 - color_loss: 0.0630 - color_sparse_categorical_accuracy: 0.9836 - val_loss: 0.6100 - val_quality_loss: 0.5561 - val_color_loss: 0.0539 - val_color_sparse_categorical_accuracy: 0.9838 - 378ms/epoch - 3ms/step\n",
      "Epoch 38/100\n",
      "122/122 - 0s - loss: 0.6253 - quality_loss: 0.5598 - color_loss: 0.0655 - color_sparse_categorical_accuracy: 0.9810 - val_loss: 0.5999 - val_quality_loss: 0.5418 - val_color_loss: 0.0581 - val_color_sparse_categorical_accuracy: 0.9815 - 397ms/epoch - 3ms/step\n",
      "Epoch 39/100\n",
      "122/122 - 0s - loss: 0.6125 - quality_loss: 0.5481 - color_loss: 0.0644 - color_sparse_categorical_accuracy: 0.9808 - val_loss: 0.5942 - val_quality_loss: 0.5405 - val_color_loss: 0.0537 - val_color_sparse_categorical_accuracy: 0.9831 - 349ms/epoch - 3ms/step\n",
      "Epoch 40/100\n",
      "122/122 - 0s - loss: 0.6037 - quality_loss: 0.5393 - color_loss: 0.0645 - color_sparse_categorical_accuracy: 0.9808 - val_loss: 0.5956 - val_quality_loss: 0.5426 - val_color_loss: 0.0531 - val_color_sparse_categorical_accuracy: 0.9846 - 356ms/epoch - 3ms/step\n",
      "Epoch 41/100\n",
      "122/122 - 0s - loss: 0.6360 - quality_loss: 0.5703 - color_loss: 0.0657 - color_sparse_categorical_accuracy: 0.9810 - val_loss: 0.5946 - val_quality_loss: 0.5409 - val_color_loss: 0.0537 - val_color_sparse_categorical_accuracy: 0.9846 - 381ms/epoch - 3ms/step\n",
      "Epoch 42/100\n",
      "122/122 - 0s - loss: 0.6118 - quality_loss: 0.5478 - color_loss: 0.0641 - color_sparse_categorical_accuracy: 0.9844 - val_loss: 0.6187 - val_quality_loss: 0.5647 - val_color_loss: 0.0540 - val_color_sparse_categorical_accuracy: 0.9846 - 434ms/epoch - 4ms/step\n",
      "Epoch 43/100\n",
      "122/122 - 0s - loss: 0.6134 - quality_loss: 0.5492 - color_loss: 0.0643 - color_sparse_categorical_accuracy: 0.9800 - val_loss: 0.6185 - val_quality_loss: 0.5588 - val_color_loss: 0.0597 - val_color_sparse_categorical_accuracy: 0.9823 - 483ms/epoch - 4ms/step\n",
      "Epoch 44/100\n",
      "122/122 - 0s - loss: 0.6053 - quality_loss: 0.5409 - color_loss: 0.0644 - color_sparse_categorical_accuracy: 0.9820 - val_loss: 0.6130 - val_quality_loss: 0.5556 - val_color_loss: 0.0574 - val_color_sparse_categorical_accuracy: 0.9831 - 396ms/epoch - 3ms/step\n",
      "Epoch 45/100\n",
      "122/122 - 0s - loss: 0.6238 - quality_loss: 0.5584 - color_loss: 0.0654 - color_sparse_categorical_accuracy: 0.9815 - val_loss: 0.6071 - val_quality_loss: 0.5450 - val_color_loss: 0.0622 - val_color_sparse_categorical_accuracy: 0.9792 - 372ms/epoch - 3ms/step\n",
      "Epoch 46/100\n",
      "122/122 - 0s - loss: 0.6329 - quality_loss: 0.5693 - color_loss: 0.0636 - color_sparse_categorical_accuracy: 0.9815 - val_loss: 0.7446 - val_quality_loss: 0.6922 - val_color_loss: 0.0524 - val_color_sparse_categorical_accuracy: 0.9862 - 354ms/epoch - 3ms/step\n",
      "Epoch 47/100\n",
      "122/122 - 0s - loss: 0.6206 - quality_loss: 0.5543 - color_loss: 0.0663 - color_sparse_categorical_accuracy: 0.9808 - val_loss: 0.5998 - val_quality_loss: 0.5455 - val_color_loss: 0.0543 - val_color_sparse_categorical_accuracy: 0.9838 - 349ms/epoch - 3ms/step\n",
      "Epoch 48/100\n",
      "122/122 - 0s - loss: 0.6134 - quality_loss: 0.5471 - color_loss: 0.0662 - color_sparse_categorical_accuracy: 0.9818 - val_loss: 0.6738 - val_quality_loss: 0.6164 - val_color_loss: 0.0574 - val_color_sparse_categorical_accuracy: 0.9815 - 396ms/epoch - 3ms/step\n",
      "Epoch 49/100\n",
      "122/122 - 0s - loss: 0.6070 - quality_loss: 0.5410 - color_loss: 0.0659 - color_sparse_categorical_accuracy: 0.9823 - val_loss: 0.6013 - val_quality_loss: 0.5461 - val_color_loss: 0.0553 - val_color_sparse_categorical_accuracy: 0.9823 - 380ms/epoch - 3ms/step\n",
      "Epoch 50/100\n",
      "122/122 - 0s - loss: 0.6135 - quality_loss: 0.5489 - color_loss: 0.0646 - color_sparse_categorical_accuracy: 0.9820 - val_loss: 0.6273 - val_quality_loss: 0.5725 - val_color_loss: 0.0548 - val_color_sparse_categorical_accuracy: 0.9831 - 343ms/epoch - 3ms/step\n",
      "Epoch 51/100\n",
      "122/122 - 0s - loss: 0.6109 - quality_loss: 0.5481 - color_loss: 0.0628 - color_sparse_categorical_accuracy: 0.9833 - val_loss: 0.5975 - val_quality_loss: 0.5409 - val_color_loss: 0.0566 - val_color_sparse_categorical_accuracy: 0.9815 - 368ms/epoch - 3ms/step\n",
      "Epoch 52/100\n",
      "122/122 - 0s - loss: 0.6098 - quality_loss: 0.5437 - color_loss: 0.0662 - color_sparse_categorical_accuracy: 0.9800 - val_loss: 0.6307 - val_quality_loss: 0.5784 - val_color_loss: 0.0522 - val_color_sparse_categorical_accuracy: 0.9862 - 369ms/epoch - 3ms/step\n",
      "Epoch 53/100\n",
      "122/122 - 0s - loss: 0.6285 - quality_loss: 0.5662 - color_loss: 0.0623 - color_sparse_categorical_accuracy: 0.9810 - val_loss: 0.6602 - val_quality_loss: 0.6078 - val_color_loss: 0.0524 - val_color_sparse_categorical_accuracy: 0.9854 - 406ms/epoch - 3ms/step\n",
      "Epoch 54/100\n",
      "122/122 - 0s - loss: 0.6175 - quality_loss: 0.5535 - color_loss: 0.0640 - color_sparse_categorical_accuracy: 0.9823 - val_loss: 0.6035 - val_quality_loss: 0.5498 - val_color_loss: 0.0537 - val_color_sparse_categorical_accuracy: 0.9838 - 394ms/epoch - 3ms/step\n",
      "Epoch 55/100\n",
      "122/122 - 0s - loss: 0.6307 - quality_loss: 0.5664 - color_loss: 0.0642 - color_sparse_categorical_accuracy: 0.9820 - val_loss: 0.6466 - val_quality_loss: 0.5864 - val_color_loss: 0.0602 - val_color_sparse_categorical_accuracy: 0.9808 - 349ms/epoch - 3ms/step\n",
      "Epoch 56/100\n",
      "122/122 - 0s - loss: 0.6452 - quality_loss: 0.5811 - color_loss: 0.0641 - color_sparse_categorical_accuracy: 0.9826 - val_loss: 0.5971 - val_quality_loss: 0.5447 - val_color_loss: 0.0524 - val_color_sparse_categorical_accuracy: 0.9846 - 384ms/epoch - 3ms/step\n",
      "Epoch 57/100\n",
      "122/122 - 0s - loss: 0.6239 - quality_loss: 0.5594 - color_loss: 0.0645 - color_sparse_categorical_accuracy: 0.9815 - val_loss: 0.6154 - val_quality_loss: 0.5615 - val_color_loss: 0.0540 - val_color_sparse_categorical_accuracy: 0.9831 - 373ms/epoch - 3ms/step\n",
      "Epoch 58/100\n",
      "122/122 - 0s - loss: 0.6277 - quality_loss: 0.5624 - color_loss: 0.0654 - color_sparse_categorical_accuracy: 0.9802 - val_loss: 0.5957 - val_quality_loss: 0.5419 - val_color_loss: 0.0537 - val_color_sparse_categorical_accuracy: 0.9846 - 373ms/epoch - 3ms/step\n",
      "Epoch 59/100\n",
      "122/122 - 0s - loss: 0.6080 - quality_loss: 0.5452 - color_loss: 0.0628 - color_sparse_categorical_accuracy: 0.9820 - val_loss: 0.7522 - val_quality_loss: 0.7003 - val_color_loss: 0.0519 - val_color_sparse_categorical_accuracy: 0.9862 - 403ms/epoch - 3ms/step\n",
      "Epoch 60/100\n",
      "122/122 - 0s - loss: 0.6508 - quality_loss: 0.5871 - color_loss: 0.0637 - color_sparse_categorical_accuracy: 0.9828 - val_loss: 0.6079 - val_quality_loss: 0.5554 - val_color_loss: 0.0525 - val_color_sparse_categorical_accuracy: 0.9854 - 382ms/epoch - 3ms/step\n",
      "Epoch 61/100\n",
      "122/122 - 0s - loss: 0.6143 - quality_loss: 0.5487 - color_loss: 0.0656 - color_sparse_categorical_accuracy: 0.9802 - val_loss: 0.6066 - val_quality_loss: 0.5542 - val_color_loss: 0.0524 - val_color_sparse_categorical_accuracy: 0.9854 - 386ms/epoch - 3ms/step\n"
     ]
    },
    {
     "name": "stdout",
     "output_type": "stream",
     "text": [
      "Epoch 62/100\n",
      "122/122 - 0s - loss: 0.6166 - quality_loss: 0.5527 - color_loss: 0.0638 - color_sparse_categorical_accuracy: 0.9818 - val_loss: 0.5919 - val_quality_loss: 0.5394 - val_color_loss: 0.0524 - val_color_sparse_categorical_accuracy: 0.9862 - 359ms/epoch - 3ms/step\n",
      "Epoch 63/100\n",
      "122/122 - 0s - loss: 0.6107 - quality_loss: 0.5458 - color_loss: 0.0649 - color_sparse_categorical_accuracy: 0.9792 - val_loss: 0.6395 - val_quality_loss: 0.5690 - val_color_loss: 0.0706 - val_color_sparse_categorical_accuracy: 0.9762 - 390ms/epoch - 3ms/step\n",
      "Epoch 64/100\n",
      "122/122 - 0s - loss: 0.6268 - quality_loss: 0.5640 - color_loss: 0.0628 - color_sparse_categorical_accuracy: 0.9805 - val_loss: 0.6033 - val_quality_loss: 0.5505 - val_color_loss: 0.0529 - val_color_sparse_categorical_accuracy: 0.9846 - 441ms/epoch - 4ms/step\n",
      "Epoch 65/100\n",
      "122/122 - 0s - loss: 0.6282 - quality_loss: 0.5647 - color_loss: 0.0635 - color_sparse_categorical_accuracy: 0.9838 - val_loss: 0.6178 - val_quality_loss: 0.5634 - val_color_loss: 0.0544 - val_color_sparse_categorical_accuracy: 0.9838 - 403ms/epoch - 3ms/step\n",
      "Epoch 66/100\n",
      "122/122 - 0s - loss: 0.6159 - quality_loss: 0.5501 - color_loss: 0.0658 - color_sparse_categorical_accuracy: 0.9813 - val_loss: 0.6155 - val_quality_loss: 0.5537 - val_color_loss: 0.0617 - val_color_sparse_categorical_accuracy: 0.9808 - 383ms/epoch - 3ms/step\n",
      "Epoch 67/100\n",
      "122/122 - 0s - loss: 0.6040 - quality_loss: 0.5391 - color_loss: 0.0649 - color_sparse_categorical_accuracy: 0.9802 - val_loss: 0.6159 - val_quality_loss: 0.5607 - val_color_loss: 0.0552 - val_color_sparse_categorical_accuracy: 0.9823 - 388ms/epoch - 3ms/step\n",
      "Epoch 68/100\n",
      "122/122 - 0s - loss: 0.6110 - quality_loss: 0.5491 - color_loss: 0.0620 - color_sparse_categorical_accuracy: 0.9820 - val_loss: 0.6058 - val_quality_loss: 0.5499 - val_color_loss: 0.0559 - val_color_sparse_categorical_accuracy: 0.9823 - 343ms/epoch - 3ms/step\n",
      "Epoch 69/100\n",
      "122/122 - 0s - loss: 0.6106 - quality_loss: 0.5476 - color_loss: 0.0629 - color_sparse_categorical_accuracy: 0.9826 - val_loss: 0.5946 - val_quality_loss: 0.5424 - val_color_loss: 0.0521 - val_color_sparse_categorical_accuracy: 0.9854 - 388ms/epoch - 3ms/step\n",
      "Epoch 70/100\n",
      "122/122 - 0s - loss: 0.6173 - quality_loss: 0.5527 - color_loss: 0.0646 - color_sparse_categorical_accuracy: 0.9808 - val_loss: 0.5950 - val_quality_loss: 0.5433 - val_color_loss: 0.0517 - val_color_sparse_categorical_accuracy: 0.9846 - 382ms/epoch - 3ms/step\n",
      "Epoch 71/100\n",
      "122/122 - 0s - loss: 0.6248 - quality_loss: 0.5622 - color_loss: 0.0626 - color_sparse_categorical_accuracy: 0.9818 - val_loss: 0.6239 - val_quality_loss: 0.5719 - val_color_loss: 0.0520 - val_color_sparse_categorical_accuracy: 0.9854 - 361ms/epoch - 3ms/step\n",
      "Epoch 72/100\n",
      "122/122 - 0s - loss: 0.6215 - quality_loss: 0.5580 - color_loss: 0.0635 - color_sparse_categorical_accuracy: 0.9815 - val_loss: 0.6245 - val_quality_loss: 0.5570 - val_color_loss: 0.0675 - val_color_sparse_categorical_accuracy: 0.9762 - 340ms/epoch - 3ms/step\n",
      "Epoch 73/100\n",
      "122/122 - 0s - loss: 0.6181 - quality_loss: 0.5481 - color_loss: 0.0700 - color_sparse_categorical_accuracy: 0.9795 - val_loss: 0.6038 - val_quality_loss: 0.5514 - val_color_loss: 0.0523 - val_color_sparse_categorical_accuracy: 0.9846 - 364ms/epoch - 3ms/step\n",
      "Epoch 74/100\n",
      "122/122 - 0s - loss: 0.6082 - quality_loss: 0.5440 - color_loss: 0.0642 - color_sparse_categorical_accuracy: 0.9810 - val_loss: 0.6235 - val_quality_loss: 0.5696 - val_color_loss: 0.0538 - val_color_sparse_categorical_accuracy: 0.9831 - 402ms/epoch - 3ms/step\n",
      "Epoch 75/100\n",
      "122/122 - 0s - loss: 0.6213 - quality_loss: 0.5594 - color_loss: 0.0619 - color_sparse_categorical_accuracy: 0.9833 - val_loss: 0.5960 - val_quality_loss: 0.5448 - val_color_loss: 0.0512 - val_color_sparse_categorical_accuracy: 0.9862 - 377ms/epoch - 3ms/step\n",
      "Epoch 76/100\n",
      "122/122 - 0s - loss: 0.6115 - quality_loss: 0.5488 - color_loss: 0.0627 - color_sparse_categorical_accuracy: 0.9820 - val_loss: 0.5967 - val_quality_loss: 0.5445 - val_color_loss: 0.0522 - val_color_sparse_categorical_accuracy: 0.9854 - 380ms/epoch - 3ms/step\n",
      "Epoch 77/100\n",
      "122/122 - 0s - loss: 0.6194 - quality_loss: 0.5561 - color_loss: 0.0633 - color_sparse_categorical_accuracy: 0.9836 - val_loss: 0.5936 - val_quality_loss: 0.5424 - val_color_loss: 0.0513 - val_color_sparse_categorical_accuracy: 0.9854 - 370ms/epoch - 3ms/step\n",
      "Epoch 78/100\n",
      "122/122 - 0s - loss: 0.6125 - quality_loss: 0.5499 - color_loss: 0.0626 - color_sparse_categorical_accuracy: 0.9795 - val_loss: 0.5908 - val_quality_loss: 0.5396 - val_color_loss: 0.0512 - val_color_sparse_categorical_accuracy: 0.9869 - 357ms/epoch - 3ms/step\n",
      "Epoch 79/100\n",
      "122/122 - 0s - loss: 0.6101 - quality_loss: 0.5430 - color_loss: 0.0671 - color_sparse_categorical_accuracy: 0.9820 - val_loss: 0.5942 - val_quality_loss: 0.5428 - val_color_loss: 0.0514 - val_color_sparse_categorical_accuracy: 0.9862 - 346ms/epoch - 3ms/step\n",
      "Epoch 80/100\n",
      "122/122 - 0s - loss: 0.6173 - quality_loss: 0.5538 - color_loss: 0.0636 - color_sparse_categorical_accuracy: 0.9810 - val_loss: 0.6167 - val_quality_loss: 0.5641 - val_color_loss: 0.0525 - val_color_sparse_categorical_accuracy: 0.9846 - 385ms/epoch - 3ms/step\n",
      "Epoch 81/100\n",
      "122/122 - 0s - loss: 0.6419 - quality_loss: 0.5783 - color_loss: 0.0636 - color_sparse_categorical_accuracy: 0.9795 - val_loss: 0.6005 - val_quality_loss: 0.5392 - val_color_loss: 0.0613 - val_color_sparse_categorical_accuracy: 0.9792 - 362ms/epoch - 3ms/step\n",
      "Epoch 82/100\n",
      "122/122 - 0s - loss: 0.6089 - quality_loss: 0.5474 - color_loss: 0.0615 - color_sparse_categorical_accuracy: 0.9815 - val_loss: 0.6058 - val_quality_loss: 0.5541 - val_color_loss: 0.0517 - val_color_sparse_categorical_accuracy: 0.9854 - 375ms/epoch - 3ms/step\n",
      "Epoch 83/100\n",
      "122/122 - 0s - loss: 0.6267 - quality_loss: 0.5615 - color_loss: 0.0652 - color_sparse_categorical_accuracy: 0.9820 - val_loss: 0.6467 - val_quality_loss: 0.5934 - val_color_loss: 0.0533 - val_color_sparse_categorical_accuracy: 0.9831 - 364ms/epoch - 3ms/step\n",
      "Epoch 84/100\n",
      "122/122 - 0s - loss: 0.6289 - quality_loss: 0.5647 - color_loss: 0.0642 - color_sparse_categorical_accuracy: 0.9815 - val_loss: 0.6071 - val_quality_loss: 0.5548 - val_color_loss: 0.0523 - val_color_sparse_categorical_accuracy: 0.9838 - 351ms/epoch - 3ms/step\n",
      "Epoch 85/100\n",
      "122/122 - 0s - loss: 0.6420 - quality_loss: 0.5799 - color_loss: 0.0621 - color_sparse_categorical_accuracy: 0.9826 - val_loss: 0.6217 - val_quality_loss: 0.5618 - val_color_loss: 0.0599 - val_color_sparse_categorical_accuracy: 0.9808 - 432ms/epoch - 4ms/step\n",
      "Epoch 86/100\n",
      "122/122 - 0s - loss: 0.6077 - quality_loss: 0.5444 - color_loss: 0.0633 - color_sparse_categorical_accuracy: 0.9805 - val_loss: 0.6761 - val_quality_loss: 0.6203 - val_color_loss: 0.0557 - val_color_sparse_categorical_accuracy: 0.9823 - 408ms/epoch - 3ms/step\n",
      "Epoch 87/100\n",
      "122/122 - 0s - loss: 0.6027 - quality_loss: 0.5398 - color_loss: 0.0630 - color_sparse_categorical_accuracy: 0.9836 - val_loss: 0.5980 - val_quality_loss: 0.5472 - val_color_loss: 0.0508 - val_color_sparse_categorical_accuracy: 0.9869 - 422ms/epoch - 3ms/step\n",
      "Epoch 88/100\n",
      "122/122 - 0s - loss: 0.6404 - quality_loss: 0.5749 - color_loss: 0.0655 - color_sparse_categorical_accuracy: 0.9800 - val_loss: 0.6554 - val_quality_loss: 0.6041 - val_color_loss: 0.0512 - val_color_sparse_categorical_accuracy: 0.9869 - 366ms/epoch - 3ms/step\n",
      "Epoch 89/100\n",
      "122/122 - 0s - loss: 0.6062 - quality_loss: 0.5434 - color_loss: 0.0629 - color_sparse_categorical_accuracy: 0.9828 - val_loss: 0.5958 - val_quality_loss: 0.5448 - val_color_loss: 0.0510 - val_color_sparse_categorical_accuracy: 0.9862 - 355ms/epoch - 3ms/step\n",
      "Epoch 90/100\n",
      "122/122 - 0s - loss: 0.6112 - quality_loss: 0.5498 - color_loss: 0.0614 - color_sparse_categorical_accuracy: 0.9823 - val_loss: 0.6247 - val_quality_loss: 0.5725 - val_color_loss: 0.0522 - val_color_sparse_categorical_accuracy: 0.9854 - 390ms/epoch - 3ms/step\n",
      "Epoch 91/100\n",
      "122/122 - 0s - loss: 0.6075 - quality_loss: 0.5459 - color_loss: 0.0616 - color_sparse_categorical_accuracy: 0.9826 - val_loss: 0.5950 - val_quality_loss: 0.5409 - val_color_loss: 0.0541 - val_color_sparse_categorical_accuracy: 0.9831 - 364ms/epoch - 3ms/step\n",
      "Epoch 92/100\n"
     ]
    },
    {
     "name": "stdout",
     "output_type": "stream",
     "text": [
      "122/122 - 0s - loss: 0.6543 - quality_loss: 0.5898 - color_loss: 0.0645 - color_sparse_categorical_accuracy: 0.9815 - val_loss: 0.6012 - val_quality_loss: 0.5505 - val_color_loss: 0.0507 - val_color_sparse_categorical_accuracy: 0.9869 - 379ms/epoch - 3ms/step\n",
      "Epoch 93/100\n",
      "122/122 - 0s - loss: 0.6211 - quality_loss: 0.5596 - color_loss: 0.0616 - color_sparse_categorical_accuracy: 0.9828 - val_loss: 0.6096 - val_quality_loss: 0.5544 - val_color_loss: 0.0552 - val_color_sparse_categorical_accuracy: 0.9823 - 357ms/epoch - 3ms/step\n",
      "Epoch 94/100\n",
      "122/122 - 0s - loss: 0.6017 - quality_loss: 0.5377 - color_loss: 0.0640 - color_sparse_categorical_accuracy: 0.9828 - val_loss: 0.5885 - val_quality_loss: 0.5379 - val_color_loss: 0.0506 - val_color_sparse_categorical_accuracy: 0.9869 - 364ms/epoch - 3ms/step\n",
      "Epoch 95/100\n",
      "122/122 - 0s - loss: 0.6065 - quality_loss: 0.5411 - color_loss: 0.0655 - color_sparse_categorical_accuracy: 0.9805 - val_loss: 0.6237 - val_quality_loss: 0.5728 - val_color_loss: 0.0510 - val_color_sparse_categorical_accuracy: 0.9854 - 366ms/epoch - 3ms/step\n",
      "Epoch 96/100\n",
      "122/122 - 0s - loss: 0.6100 - quality_loss: 0.5466 - color_loss: 0.0633 - color_sparse_categorical_accuracy: 0.9815 - val_loss: 0.6328 - val_quality_loss: 0.5818 - val_color_loss: 0.0510 - val_color_sparse_categorical_accuracy: 0.9862 - 397ms/epoch - 3ms/step\n",
      "Epoch 97/100\n",
      "122/122 - 0s - loss: 0.6164 - quality_loss: 0.5520 - color_loss: 0.0643 - color_sparse_categorical_accuracy: 0.9808 - val_loss: 0.6174 - val_quality_loss: 0.5634 - val_color_loss: 0.0539 - val_color_sparse_categorical_accuracy: 0.9831 - 353ms/epoch - 3ms/step\n",
      "Epoch 98/100\n",
      "122/122 - 0s - loss: 0.6241 - quality_loss: 0.5627 - color_loss: 0.0614 - color_sparse_categorical_accuracy: 0.9838 - val_loss: 0.6013 - val_quality_loss: 0.5478 - val_color_loss: 0.0536 - val_color_sparse_categorical_accuracy: 0.9831 - 363ms/epoch - 3ms/step\n",
      "Epoch 99/100\n",
      "122/122 - 0s - loss: 0.6487 - quality_loss: 0.5853 - color_loss: 0.0634 - color_sparse_categorical_accuracy: 0.9841 - val_loss: 0.6073 - val_quality_loss: 0.5566 - val_color_loss: 0.0507 - val_color_sparse_categorical_accuracy: 0.9862 - 369ms/epoch - 3ms/step\n",
      "Epoch 100/100\n",
      "122/122 - 0s - loss: 0.6112 - quality_loss: 0.5488 - color_loss: 0.0624 - color_sparse_categorical_accuracy: 0.9826 - val_loss: 0.5997 - val_quality_loss: 0.5418 - val_color_loss: 0.0578 - val_color_sparse_categorical_accuracy: 0.9808 - 410ms/epoch - 3ms/step\n"
     ]
    }
   ],
   "source": [
    "history = model.fit(train_X, {'quality': train_y.quality, 'color': train_y.color}, \n",
    "         epochs=100, verbose=2, validation_split=val_frac).history"
   ]
  },
  {
   "cell_type": "code",
   "execution_count": 31,
   "id": "be66f2ef",
   "metadata": {},
   "outputs": [
    {
     "data": {
      "text/plain": [
       "<AxesSubplot:>"
      ]
     },
     "execution_count": 31,
     "metadata": {},
     "output_type": "execute_result"
    },
    {
     "data": {
      "image/png": "[encoded data removed]",
      "text/plain": [
       "<Figure size 432x288 with 1 Axes>"
      ]
     },
     "metadata": {
      "needs_background": "light"
     },
     "output_type": "display_data"
    }
   ],
   "source": [
    "pd.DataFrame(history).plot()"
   ]
  },
  {
   "cell_type": "code",
   "execution_count": 32,
   "id": "b7dd22f1",
   "metadata": {},
   "outputs": [
    {
     "data": {
      "text/plain": [
       "<AxesSubplot:>"
      ]
     },
     "execution_count": 32,
     "metadata": {},
     "output_type": "execute_result"
    },
    {
     "data": {
      "image/png": "[encoded data removed]",
      "text/plain": [
       "<Figure size 432x288 with 1 Axes>"
      ]
     },
     "metadata": {
      "needs_background": "light"
     },
     "output_type": "display_data"
    }
   ],
   "source": [
    "pd.DataFrame(history)[['quality_loss', 'val_quality_loss']].plot()"
   ]
  },
  {
   "cell_type": "code",
   "execution_count": 36,
   "id": "e261c839",
   "metadata": {},
   "outputs": [
    {
     "data": {
      "text/plain": [
       "<AxesSubplot:>"
      ]
     },
     "execution_count": 36,
     "metadata": {},
     "output_type": "execute_result"
    },
    {
     "data": {
      "image/png": "[encoded data removed]",
      "text/plain": [
       "<Figure size 432x288 with 1 Axes>"
      ]
     },
     "metadata": {
      "needs_background": "light"
     },
     "output_type": "display_data"
    }
   ],
   "source": [
    "pd.DataFrame(history)[['color_sparse_categorical_accuracy']].plot()"
   ]
  },
  {
   "cell_type": "code",
   "execution_count": 35,
   "id": "98985d9c",
   "metadata": {},
   "outputs": [
    {
     "name": "stdout",
     "output_type": "stream",
     "text": [
      "25/25 [==============================] - 0s 2ms/step - loss: 0.5444 - quality_loss: 0.5149 - color_loss: 0.0294 - color_sparse_categorical_accuracy: 0.9887\n"
     ]
    },
    {
     "data": {
      "text/plain": [
       "[0.5443671941757202,\n",
       " 0.5149285793304443,\n",
       " 0.029438549652695656,\n",
       " 0.9886792302131653]"
      ]
     },
     "execution_count": 35,
     "metadata": {},
     "output_type": "execute_result"
    }
   ],
   "source": [
    "model.evaluate(test_X, {'quality': test_y.quality, \"color\": test_y.color})"
   ]
  },
  {
   "cell_type": "markdown",
   "id": "24246e2e",
   "metadata": {},
   "source": [
    "## NLP/RNN"
   ]
  },
  {
   "cell_type": "code",
   "execution_count": 37,
   "id": "7e72181d",
   "metadata": {},
   "outputs": [],
   "source": [
    "(train_dataset, test_dataset), info = tfds.load('ag_news_subset', with_info=True,\n",
    "                          as_supervised=True, split=['train[:50%]', 'test[:50%]'])"
   ]
  },
  {
   "cell_type": "code",
   "execution_count": 42,
   "id": "deef67ab",
   "metadata": {},
   "outputs": [
    {
     "name": "stdout",
     "output_type": "stream",
     "text": [
      "[b'AMD #39;s new dual-core Opteron chip is designed mainly for corporate computing applications, including databases, Web services, and financial transactions.'\n",
      " b'Reuters - Major League Baseball\\\\Monday announced a decision on the appeal filed by Chicago Cubs\\\\pitcher Kerry Wood regarding a suspension stemming from an\\\\incident earlier this season.'\n",
      " b'President Bush #39;s  quot;revenue-neutral quot; tax reform needs losers to balance its winners, and people claiming the federal deduction for state and local taxes may be in administration planners #39; sights, news reports say.'\n",
      " b'Britain will run out of leading scientists unless science education is improved, says Professor Colin Pillinger.'\n",
      " b'London, England (Sports Network) - England midfielder Steven Gerrard injured his groin late in Thursday #39;s training session, but is hopeful he will be ready for Saturday #39;s World Cup qualifier against Austria.'\n",
      " b'TOKYO - Sony Corp. is banking on the \\\\$3 billion deal to acquire Hollywood studio Metro-Goldwyn-Mayer Inc...'\n",
      " b'Giant pandas may well prefer bamboo to laptops, but wireless technology is helping researchers in China in their efforts to protect the engandered animals living in the remote Wolong Nature Reserve.'\n",
      " b'VILNIUS, Lithuania - Lithuania #39;s main parties formed an alliance to try to keep a Russian-born tycoon and his populist promises out of the government in Sunday #39;s second round of parliamentary elections in this Baltic country.'\n",
      " b'Witnesses in the trial of a US soldier charged with abusing prisoners at Abu Ghraib have told the court that the CIA sometimes directed abuse and orders were received from military command to toughen interrogations.'\n",
      " b'Dan Olsen of Ponte Vedra Beach, Fla., shot a 7-under 65 Thursday to take a one-shot lead after two rounds of the PGA Tour qualifying tournament.'\n",
      " b'KABUL - Taleban-linked militants threatening to kill three UN hostages are accusing the United States of hampering their release, although an Afghan official says a ransom demand is the main stumbling block.'\n",
      " b'Four executives at German memory vendor Infineon Technologies and its U.S. subsidiary have pled guilty to charges of illegally setting prices for PC memory chips, the U.S. Department of Justice (DOJ) announced Thursday.'\n",
      " b'Yahoo Inc. has agreed to extend its deal to place advertisements on Microsoft Corp. #39;s MSN sites in the United States and overseas by one year through June 2006, Yahoo said on Thursday.'\n",
      " b'The World Health Organization, UNICEF and other partners are launching a large-scale polio immunization campaign in 23 African countries.'\n",
      " b'IPE.com 5/Oct/04: UK - Drinks firm Diageo has transferred four million shares in US cereal maker General Mills to its UK pension plan to help cut the schemes 750 million-pound (1.'\n",
      " b'London, Oct 04 - Thierry Henry scored twice as arsenal easily beat Charlton 4-0 to extend its unbeaten premier league streak to 48 matches and bounce back from alleged team disunity.'\n",
      " b\"WASHINGTON - There's a new option for people who suffer from extreme nearsightedness, whose world loses its crisp edge just a few inches from their noses. The first implantable lens for nearsightedness was approved Monday by the Food and Drug Administration...\"\n",
      " b\"The Google Playboy Interview In Its Entirety\\\\\\\\The infamous Playboy Interview of Sergey Brin and Larry Page, the Google Guys, is now not only available on newsstands all over the country, but also on the Security Exchange Commission's website because of a possible SEC violation. Now, it will be more difficult ...\"\n",
      " b\"&lt;strong&gt;Cash'n'Carrion&lt;/strong&gt; Get 'em in by Sunday\"\n",
      " b'Urban Meyer, who guided Utah to an 11- 0 record this season, was named football coach at the University of Florida today. Meyer received a seven-year, \\\\$14 million contract to replace Ron Zook, who was fired Oct.'\n",
      " b'The Fighting Irish opened the season Saturday night with a 20-17 loss at Brigham Young, a performance that doesn #39;t give much hope for a turnaround season.'\n",
      " b'By Hugh Williamson in Berlin and Richard Milne in Rsselsheim. The mood at Opel #39;s Rssel-heim factory near Frankfurt was as chilly yesterday as the weather.'\n",
      " b'NEW YORKIBM said yesterday it is in talks to settle a mammoth lawsuit alleging a pension plan adopted by the firm in the 1990s discriminated against 140,000 older workers.'\n",
      " b'By wire services. Now it #39;s Roy Oswalt  #39;s turn to try to pitch the Astros to their first playoff series victory. He can only hope for more help from his bullpen than Roger Clemens got Sunday.'\n",
      " b'Sony BMG - aka  #39;Bony #39; - the merged music label is in talks with Grokster, the P2P software company has confirmed. Negotiations are believed to be focused on the development of a new, label-friendly P2P network.'\n",
      " b'AP - The Worcester IceCats will move to Peoria, Ill., next season after the sale of the AHL team by the St. Louis Blues is completed.'\n",
      " b'NEW YORK (Dow Jones)--Infineon Technologies AG (IFX) said it will build a new front-end production plant in Kulim High Tech Park, Malaysia.'\n",
      " b'Rupert Murdoch #39;s News Corporation today took steps to head off a potential takeover by rival mogul John Malone with a  quot;poison pill quot; plan to dilute the shareholdings of would-be predators.'\n",
      " b'Thousands of pilgrims streamed into the Imam Ali Shrine in Najaf yesterday as militants left, handing the keys to religious authorities after Iraq #39;s top Shia cleric '\n",
      " b'VOLOS, Greece At least the Manchester United manager, Alex Ferguson, will be pleased that he has Cristiano Ronaldo back early from the Olympics. If only Ronaldo were happy to see him. '\n",
      " b'AP - A new political strategy has emerged in this photo-finish presidential race: File a flurry of lawsuits before the first votes are even tallied.'\n",
      " b'The United States Anti-Doping Agency received an important validation when sprinter Michelle Collins, 33, received an eight-year suspension on Friday.'\n",
      " b'Wireless broadband systems should be available next year, WaveSat says.'\n",
      " b\"The UK's switch to digital television could begin as soon as 2007, according the media watchdog Ofcom.\"\n",
      " b' KHARTOUM (Reuters) - Sudan on Monday ruled out any notion  of self-rule for Darfur and said rebels in the western region  would not secure the same concessions agreed with southern  rebels after two decades of war.'\n",
      " b' HOUSTON (Reuters) - World number one Roger Federer capped  one of the finest seasons in tennis history by successfully  defending his Masters Cup crown with a devastating 6-3, 6-2  final win over Lleyton Hewitt on Sunday.'\n",
      " b'NAJAF, Iraq - Prime Minister Ayad Allawi issued a \"final call\" Thursday to Shiite insurgents to disarm and withdraw from a revered shrine after his government threatened a massive onslaught by Iraqi forces. As the peace deal for Najaf unraveled, militants bombarded a police station with mortar rounds, killing seven police and injuring 31 others...'\n",
      " b\"NEW YORK - While Oracle Corp. awaits a judge's decision on whether it can continue in its quest to acquire PeopleSoft Inc., the company faced a setback in an unrelated case. An appeals court on Wednesday ruled that a three-year-old shareholder lawsuit charging Oracle and several of its top executives with misleading investors about Oracle's performance may proceed, overturning a lower court's dismissal.\"\n",
      " b'The brother of the first British female soldier to die in Iraq since the war began said today her family were trying to come to terms with her death.'\n",
      " b'Word on the Web is that Google may be thinking of releasing a Web browser--possibly one based on the open-source Mozilla code. The company now owns www.'\n",
      " b'LONDON -- Wealthy countries are falling billions of dollars short of their promises to help fund reproductive health care and efforts to improve the status of women around the world, the United Nations said yesterday.'\n",
      " b'In a bid to further differentiate itself from its Linux rivals, Microsoft has said it will expand its legal indemnification programme to cover almost all its customers.'\n",
      " b'North Korean Vice Foreign Minister Choe Su-hon, currently attending the UN general assemblys annual ministerial meeting, disclosed on Monday that the North has reprocessed 8,000 spent nuclear fuel rods into weapons-grade.'\n",
      " b'A Pakistani court has granted bail to the husband of former Prime Minister Benazir Bhutto, which should result in his release after eight years in prison.'\n",
      " b'The US Supreme Court agreed Friday to consider a case likely to have a significant impact on the music, video and electronics industries.'\n",
      " b\"Some of Elvis Presley's earliest recordings - including takes of All Shook Up - go under the hammer on Sunday.\"\n",
      " b' NEW YORK (Reuters) - U.S. stock futures rose on Tuesday,  pointing to a flat market open, after preliminary third-quarter  gross domestic product data showed higher-than-expected growth.'\n",
      " b'AP - Cincinnati quarterback Gino Guidugli has the cast off his broken throwing hand and expects to start when the Bearcats play in the Fort Worth Bowl next week.'\n",
      " b'LOS ANGELES - The Atlanta Braves have won 12 consecutive division titles by reloading, rather than rebuilding. They #39;ve done it this season with Jaret Wright and JD Drew.'\n",
      " b'A Soyuz capsule made a soft landing in complete darkness in the steppes of Kazakhstan early on Sunday, bringing a US-Russian space trio back to Earth from the International Space Station.'\n",
      " b'SpaceShipOne, the world #39;s first privately built manned spacecraft, blasted into space for the second time in less than a week on Monday to claim the \\\\$10 million Ansari X Prize.'\n",
      " b'AP - A 137-nation meeting of the atomic watchdog agency demanded on Friday that North Korea scrap nuclear weapons ambitions and urged it to again allow agency inspectors to supervise its return to peaceful activities.'\n",
      " b'Traditional antivirus technology may be too slow to protect users, researchers say.'\n",
      " b'AP - Anticipated global warming by mid-century may be less severe in the central U.S. than elsewhere in the country, researchers said Tuesday.'\n",
      " b'PM-designate Omar Karameh forms a new 30-member cabinet which includes women for the first time.'\n",
      " b'The Nigerian government has confirmed reports that rebel groups in the country #39;s main oil producing region have agreed to a ceasefire.'\n",
      " b'Japanese wife, Hitomi Soga, resolving a diplomatic headache for Japan and its close ally, the United States. Japan has asked for leniency out of sympathy for Jenkins wife.'\n",
      " b'Russian Dinara Safina stormed into the second round of the China Open Monday, the day after big brother Marat Safin won the men #39;s title.'\n",
      " b'It #39;s another level of security for America Online - but users will have to pay extra for it. AOL is offering a optional log-on service that will require more than just a password to get onto the service.'\n",
      " b'Mozilla Firefox is the Web browser you have been waiting for as an alternative to Microsofts Internet Explorer. If you are fed up with security warnings, virus threats and endless security patches from Microsoft, then switch to Firefox - now.'\n",
      " b'A car is overturned in a damaged Route 117 in Ojiya, northwest of Tokyo, Sunday, Oct. 24, 2004. A barrage of powerful quakes jolted the region Saturday evening, killing at least 16 people, toppling buildings and injuring more than 900 others.'\n",
      " b'Fulham boss Chris Coleman will use the forthcoming break for World Cup qualifying to rally his beleaguered troops and plot an end to the club #39;s dismal start to the season.'\n",
      " b'Success of alternative apps like Firefox may be putting pressure on the software giant.'\n",
      " b'AP - Gen. Andi Muhammad Jusuf, a former Indonesian army chief who played a pivotal role in the rise to power of former dictator Suharto nearly four decades ago, has died. He was 76.']\n",
      "[3 1 2 3 1 0 3 0 0 1 0 3 3 0 2 1 0 3 3 1 1 2 2 1 3 1 2 2 0 1 0 1 3 2 0 1 0\n",
      " 3 0 3 0 3 0 0 3 0 2 1 1 3 3 0 3 3 0 0 0 1 2 3 0 1 3 0]\n"
     ]
    }
   ],
   "source": [
    "for desc, label in train_dataset.take(1):\n",
    "    print(desc.numpy())\n",
    "    print(label.numpy())"
   ]
  },
  {
   "cell_type": "code",
   "execution_count": 41,
   "id": "0deffe39",
   "metadata": {},
   "outputs": [],
   "source": [
    "BATCH_SIZE = 64\n",
    "train_dataset = train_dataset.batch(BATCH_SIZE)\n",
    "test_dataset = test_dataset.batch(BATCH_SIZE)"
   ]
  },
  {
   "cell_type": "code",
   "execution_count": 43,
   "id": "bea709b6",
   "metadata": {},
   "outputs": [],
   "source": [
    "VOCAB_SIZE = 1000\n",
    "encoder = keras.layers.TextVectorization(max_tokens=VOCAB_SIZE)\n",
    "encoder.adapt(train_dataset.map(lambda x, y: x))"
   ]
  },
  {
   "cell_type": "code",
   "execution_count": 44,
   "id": "f4b5889f",
   "metadata": {},
   "outputs": [
    {
     "data": {
      "text/plain": [
       "array(['', '[UNK]', 'the', 'a', 'to', 'of', 'in', 'and', 'on', 'for',\n",
       "       'that', '39s', 'with', 'as', 'its', 'at', 'is', 'said', 'by', 'it'],\n",
       "      dtype='<U14')"
      ]
     },
     "execution_count": 44,
     "metadata": {},
     "output_type": "execute_result"
    }
   ],
   "source": [
    "vocab = np.array(encoder.get_vocabulary())\n",
    "vocab[:20]"
   ]
  },
  {
   "cell_type": "code",
   "execution_count": 45,
   "id": "f87fff20",
   "metadata": {},
   "outputs": [
    {
     "data": {
      "text/plain": [
       "array([0, 1, 2, 3], dtype=int64)"
      ]
     },
     "execution_count": 45,
     "metadata": {},
     "output_type": "execute_result"
    }
   ],
   "source": [
    "labels = np.unique(np.concatenate([label for text, label in train_dataset], axis=0))\n",
    "labels"
   ]
  },
  {
   "cell_type": "markdown",
   "id": "3f44d032",
   "metadata": {},
   "source": [
    "![embedding](media\\embedding.png)\n",
    "![rnn](media\\rnn.png)\n",
    "![lstm](media\\lstm.webp)"
   ]
  },
  {
   "cell_type": "code",
   "execution_count": 52,
   "id": "e75bc1a0",
   "metadata": {},
   "outputs": [],
   "source": [
    "model = keras.Sequential([\n",
    "    encoder,\n",
    "    layers.Embedding(\n",
    "        input_dim=len(encoder.get_vocabulary()),\n",
    "        output_dim=64,\n",
    "        mask_zero=True\n",
    "    ),\n",
    "    layers.LSTM(16),\n",
    "    #layers.Dense(32, activation='relu'),\n",
    "    layers.Dense(len(labels))\n",
    "])"
   ]
  },
  {
   "cell_type": "code",
   "execution_count": 53,
   "id": "e92bd134",
   "metadata": {},
   "outputs": [],
   "source": [
    "model.compile(\n",
    "    loss=keras.losses.SparseCategoricalCrossentropy(from_logits=True),\n",
    "    optimizer=keras.optimizers.Adam(1e-4),\n",
    "    metrics=['accuracy']\n",
    ")"
   ]
  },
  {
   "cell_type": "code",
   "execution_count": 54,
   "id": "e40094c6",
   "metadata": {},
   "outputs": [
    {
     "name": "stdout",
     "output_type": "stream",
     "text": [
      "Epoch 1/5\n",
      "938/938 [==============================] - 42s 37ms/step - loss: 1.1077 - accuracy: 0.5867 - val_loss: 0.7260 - val_accuracy: 0.7708\n",
      "Epoch 2/5\n",
      "938/938 [==============================] - 33s 35ms/step - loss: 0.6339 - accuracy: 0.7971 - val_loss: 0.5374 - val_accuracy: 0.8323\n",
      "Epoch 3/5\n",
      "938/938 [==============================] - 33s 35ms/step - loss: 0.5298 - accuracy: 0.8256 - val_loss: 0.4895 - val_accuracy: 0.8401\n",
      "Epoch 4/5\n",
      "938/938 [==============================] - 33s 36ms/step - loss: 0.4849 - accuracy: 0.8395 - val_loss: 0.4647 - val_accuracy: 0.8474\n",
      "Epoch 5/5\n",
      "938/938 [==============================] - 33s 35ms/step - loss: 0.4600 - accuracy: 0.8449 - val_loss: 0.4511 - val_accuracy: 0.8479\n"
     ]
    }
   ],
   "source": [
    "history = model.fit(train_dataset, epochs=5, verbose=1, validation_data=test_dataset,\n",
    "         validation_steps=30).history"
   ]
  },
  {
   "cell_type": "code",
   "execution_count": 39,
   "id": "291a3157",
   "metadata": {},
   "outputs": [
    {
     "data": {
      "text/plain": [
       "<AxesSubplot:>"
      ]
     },
     "execution_count": 39,
     "metadata": {},
     "output_type": "execute_result"
    },
    {
     "data": {
      "image/png": "[encoded data removed]",
      "text/plain": [
       "<Figure size 432x288 with 1 Axes>"
      ]
     },
     "metadata": {
      "needs_background": "light"
     },
     "output_type": "display_data"
    }
   ],
   "source": [
    "pd.DataFrame(history).plot()"
   ]
  },
  {
   "cell_type": "code",
   "execution_count": 50,
   "id": "068d47cd",
   "metadata": {},
   "outputs": [
    {
     "name": "stderr",
     "output_type": "stream",
     "text": [
      "[nltk_data] Downloading package stopwords to\n",
      "[nltk_data]     C:\\Users\\mikol\\AppData\\Roaming\\nltk_data...\n",
      "[nltk_data]   Package stopwords is already up-to-date!\n",
      "[nltk_data] Downloading package punkt to\n",
      "[nltk_data]     C:\\Users\\mikol\\AppData\\Roaming\\nltk_data...\n",
      "[nltk_data]   Package punkt is already up-to-date!\n"
     ]
    }
   ],
   "source": [
    "import nltk\n",
    "from nltk.corpus import stopwords\n",
    "nltk.download('stopwords')\n",
    "nltk.download('punkt')\n",
    "\n",
    "def custom_standarization(input_data):\n",
    "    lowercase = tf.strings.lower(input_data)\n",
    "    filtered = tf.strings.regex_replace(lowercase, r'\\b(' + r'|'.join(stopwords.words('english')) + r')\\b\\s*',\"\")\n",
    "    return tf.strings.regex_replace(filtered, r'[\\!\\\"\\#\\$\\%\\&\\'\\(\\)\\*\\+\\,\\-\\.\\/\\:\\;\\<\\=\\>\\?\\@\\[\\]\\^\\_\\`\\{\\|\\}\\~]',\"\")\n",
    "\n",
    "\n",
    "encoder = keras.layers.TextVectorization(max_tokens=VOCAB_SIZE,\n",
    "                                        standardize=custom_standarization)\n",
    "encoder.adapt(train_dataset.map(lambda x, y: x))"
   ]
  },
  {
   "cell_type": "code",
   "execution_count": 58,
   "id": "9e3b5f62",
   "metadata": {},
   "outputs": [],
   "source": [
    "model = keras.Sequential([\n",
    "    encoder,\n",
    "    layers.Embedding(\n",
    "        input_dim=len(encoder.get_vocabulary()),\n",
    "        output_dim=64,\n",
    "        mask_zero=True\n",
    "    ),\n",
    "    layers.LSTM(16, return_sequences=True),\n",
    "    layers.LSTM(32),\n",
    "    layers.Dense(len(labels))\n",
    "])"
   ]
  },
  {
   "cell_type": "code",
   "execution_count": 59,
   "id": "3561a0b2",
   "metadata": {},
   "outputs": [],
   "source": [
    "model.compile(\n",
    "    loss=keras.losses.SparseCategoricalCrossentropy(from_logits=True),\n",
    "    optimizer=keras.optimizers.Adam(1e-4),\n",
    "    metrics=['accuracy']\n",
    ")"
   ]
  },
  {
   "cell_type": "code",
   "execution_count": 60,
   "id": "ab7bfc17",
   "metadata": {},
   "outputs": [
    {
     "name": "stdout",
     "output_type": "stream",
     "text": [
      "Epoch 1/5\n",
      "938/938 [==============================] - 80s 70ms/step - loss: 0.9483 - accuracy: 0.6416 - val_loss: 0.5918 - val_accuracy: 0.8052\n",
      "Epoch 2/5\n",
      "179/938 [====>.........................] - ETA: 52s - loss: 0.6058 - accuracy: 0.7954"
     ]
    },
    {
     "ename": "KeyboardInterrupt",
     "evalue": "",
     "output_type": "error",
     "traceback": [
      "\u001b[1;31m---------------------------------------------------------------------------\u001b[0m",
      "\u001b[1;31mKeyboardInterrupt\u001b[0m                         Traceback (most recent call last)",
      "Input \u001b[1;32mIn [60]\u001b[0m, in \u001b[0;36m<cell line: 1>\u001b[1;34m()\u001b[0m\n\u001b[1;32m----> 1\u001b[0m history \u001b[38;5;241m=\u001b[39m \u001b[43mmodel\u001b[49m\u001b[38;5;241;43m.\u001b[39;49m\u001b[43mfit\u001b[49m\u001b[43m(\u001b[49m\u001b[43mtrain_dataset\u001b[49m\u001b[43m,\u001b[49m\u001b[43m \u001b[49m\u001b[43mepochs\u001b[49m\u001b[38;5;241;43m=\u001b[39;49m\u001b[38;5;241;43m5\u001b[39;49m\u001b[43m,\u001b[49m\u001b[43m \u001b[49m\u001b[43mverbose\u001b[49m\u001b[38;5;241;43m=\u001b[39;49m\u001b[38;5;241;43m1\u001b[39;49m\u001b[43m,\u001b[49m\u001b[43m \u001b[49m\u001b[43mvalidation_data\u001b[49m\u001b[38;5;241;43m=\u001b[39;49m\u001b[43mtest_dataset\u001b[49m\u001b[43m,\u001b[49m\n\u001b[0;32m      2\u001b[0m \u001b[43m                    \u001b[49m\u001b[43mvalidation_steps\u001b[49m\u001b[38;5;241;43m=\u001b[39;49m\u001b[38;5;241;43m30\u001b[39;49m\u001b[43m)\u001b[49m\u001b[38;5;241m.\u001b[39mhistory\n",
      "File \u001b[1;32m~\\anaconda3\\envs\\lectures\\lib\\site-packages\\keras\\utils\\traceback_utils.py:64\u001b[0m, in \u001b[0;36mfilter_traceback.<locals>.error_handler\u001b[1;34m(*args, **kwargs)\u001b[0m\n\u001b[0;32m     62\u001b[0m filtered_tb \u001b[38;5;241m=\u001b[39m \u001b[38;5;28;01mNone\u001b[39;00m\n\u001b[0;32m     63\u001b[0m \u001b[38;5;28;01mtry\u001b[39;00m:\n\u001b[1;32m---> 64\u001b[0m   \u001b[38;5;28;01mreturn\u001b[39;00m fn(\u001b[38;5;241m*\u001b[39margs, \u001b[38;5;241m*\u001b[39m\u001b[38;5;241m*\u001b[39mkwargs)\n\u001b[0;32m     65\u001b[0m \u001b[38;5;28;01mexcept\u001b[39;00m \u001b[38;5;167;01mException\u001b[39;00m \u001b[38;5;28;01mas\u001b[39;00m e:  \u001b[38;5;66;03m# pylint: disable=broad-except\u001b[39;00m\n\u001b[0;32m     66\u001b[0m   filtered_tb \u001b[38;5;241m=\u001b[39m _process_traceback_frames(e\u001b[38;5;241m.\u001b[39m__traceback__)\n",
      "File \u001b[1;32m~\\anaconda3\\envs\\lectures\\lib\\site-packages\\keras\\engine\\training.py:1384\u001b[0m, in \u001b[0;36mModel.fit\u001b[1;34m(self, x, y, batch_size, epochs, verbose, callbacks, validation_split, validation_data, shuffle, class_weight, sample_weight, initial_epoch, steps_per_epoch, validation_steps, validation_batch_size, validation_freq, max_queue_size, workers, use_multiprocessing)\u001b[0m\n\u001b[0;32m   1377\u001b[0m \u001b[38;5;28;01mwith\u001b[39;00m tf\u001b[38;5;241m.\u001b[39mprofiler\u001b[38;5;241m.\u001b[39mexperimental\u001b[38;5;241m.\u001b[39mTrace(\n\u001b[0;32m   1378\u001b[0m     \u001b[38;5;124m'\u001b[39m\u001b[38;5;124mtrain\u001b[39m\u001b[38;5;124m'\u001b[39m,\n\u001b[0;32m   1379\u001b[0m     epoch_num\u001b[38;5;241m=\u001b[39mepoch,\n\u001b[0;32m   1380\u001b[0m     step_num\u001b[38;5;241m=\u001b[39mstep,\n\u001b[0;32m   1381\u001b[0m     batch_size\u001b[38;5;241m=\u001b[39mbatch_size,\n\u001b[0;32m   1382\u001b[0m     _r\u001b[38;5;241m=\u001b[39m\u001b[38;5;241m1\u001b[39m):\n\u001b[0;32m   1383\u001b[0m   callbacks\u001b[38;5;241m.\u001b[39mon_train_batch_begin(step)\n\u001b[1;32m-> 1384\u001b[0m   tmp_logs \u001b[38;5;241m=\u001b[39m \u001b[38;5;28;43mself\u001b[39;49m\u001b[38;5;241;43m.\u001b[39;49m\u001b[43mtrain_function\u001b[49m\u001b[43m(\u001b[49m\u001b[43miterator\u001b[49m\u001b[43m)\u001b[49m\n\u001b[0;32m   1385\u001b[0m   \u001b[38;5;28;01mif\u001b[39;00m data_handler\u001b[38;5;241m.\u001b[39mshould_sync:\n\u001b[0;32m   1386\u001b[0m     context\u001b[38;5;241m.\u001b[39masync_wait()\n",
      "File \u001b[1;32m~\\anaconda3\\envs\\lectures\\lib\\site-packages\\tensorflow\\python\\util\\traceback_utils.py:150\u001b[0m, in \u001b[0;36mfilter_traceback.<locals>.error_handler\u001b[1;34m(*args, **kwargs)\u001b[0m\n\u001b[0;32m    148\u001b[0m filtered_tb \u001b[38;5;241m=\u001b[39m \u001b[38;5;28;01mNone\u001b[39;00m\n\u001b[0;32m    149\u001b[0m \u001b[38;5;28;01mtry\u001b[39;00m:\n\u001b[1;32m--> 150\u001b[0m   \u001b[38;5;28;01mreturn\u001b[39;00m fn(\u001b[38;5;241m*\u001b[39margs, \u001b[38;5;241m*\u001b[39m\u001b[38;5;241m*\u001b[39mkwargs)\n\u001b[0;32m    151\u001b[0m \u001b[38;5;28;01mexcept\u001b[39;00m \u001b[38;5;167;01mException\u001b[39;00m \u001b[38;5;28;01mas\u001b[39;00m e:\n\u001b[0;32m    152\u001b[0m   filtered_tb \u001b[38;5;241m=\u001b[39m _process_traceback_frames(e\u001b[38;5;241m.\u001b[39m__traceback__)\n",
      "File \u001b[1;32m~\\anaconda3\\envs\\lectures\\lib\\site-packages\\tensorflow\\python\\eager\\def_function.py:915\u001b[0m, in \u001b[0;36mFunction.__call__\u001b[1;34m(self, *args, **kwds)\u001b[0m\n\u001b[0;32m    912\u001b[0m compiler \u001b[38;5;241m=\u001b[39m \u001b[38;5;124m\"\u001b[39m\u001b[38;5;124mxla\u001b[39m\u001b[38;5;124m\"\u001b[39m \u001b[38;5;28;01mif\u001b[39;00m \u001b[38;5;28mself\u001b[39m\u001b[38;5;241m.\u001b[39m_jit_compile \u001b[38;5;28;01melse\u001b[39;00m \u001b[38;5;124m\"\u001b[39m\u001b[38;5;124mnonXla\u001b[39m\u001b[38;5;124m\"\u001b[39m\n\u001b[0;32m    914\u001b[0m \u001b[38;5;28;01mwith\u001b[39;00m OptionalXlaContext(\u001b[38;5;28mself\u001b[39m\u001b[38;5;241m.\u001b[39m_jit_compile):\n\u001b[1;32m--> 915\u001b[0m   result \u001b[38;5;241m=\u001b[39m \u001b[38;5;28mself\u001b[39m\u001b[38;5;241m.\u001b[39m_call(\u001b[38;5;241m*\u001b[39margs, \u001b[38;5;241m*\u001b[39m\u001b[38;5;241m*\u001b[39mkwds)\n\u001b[0;32m    917\u001b[0m new_tracing_count \u001b[38;5;241m=\u001b[39m \u001b[38;5;28mself\u001b[39m\u001b[38;5;241m.\u001b[39mexperimental_get_tracing_count()\n\u001b[0;32m    918\u001b[0m without_tracing \u001b[38;5;241m=\u001b[39m (tracing_count \u001b[38;5;241m==\u001b[39m new_tracing_count)\n",
      "File \u001b[1;32m~\\anaconda3\\envs\\lectures\\lib\\site-packages\\tensorflow\\python\\eager\\def_function.py:947\u001b[0m, in \u001b[0;36mFunction._call\u001b[1;34m(self, *args, **kwds)\u001b[0m\n\u001b[0;32m    944\u001b[0m   \u001b[38;5;28mself\u001b[39m\u001b[38;5;241m.\u001b[39m_lock\u001b[38;5;241m.\u001b[39mrelease()\n\u001b[0;32m    945\u001b[0m   \u001b[38;5;66;03m# In this case we have created variables on the first call, so we run the\u001b[39;00m\n\u001b[0;32m    946\u001b[0m   \u001b[38;5;66;03m# defunned version which is guaranteed to never create variables.\u001b[39;00m\n\u001b[1;32m--> 947\u001b[0m   \u001b[38;5;28;01mreturn\u001b[39;00m \u001b[38;5;28mself\u001b[39m\u001b[38;5;241m.\u001b[39m_stateless_fn(\u001b[38;5;241m*\u001b[39margs, \u001b[38;5;241m*\u001b[39m\u001b[38;5;241m*\u001b[39mkwds)  \u001b[38;5;66;03m# pylint: disable=not-callable\u001b[39;00m\n\u001b[0;32m    948\u001b[0m \u001b[38;5;28;01melif\u001b[39;00m \u001b[38;5;28mself\u001b[39m\u001b[38;5;241m.\u001b[39m_stateful_fn \u001b[38;5;129;01mis\u001b[39;00m \u001b[38;5;129;01mnot\u001b[39;00m \u001b[38;5;28;01mNone\u001b[39;00m:\n\u001b[0;32m    949\u001b[0m   \u001b[38;5;66;03m# Release the lock early so that multiple threads can perform the call\u001b[39;00m\n\u001b[0;32m    950\u001b[0m   \u001b[38;5;66;03m# in parallel.\u001b[39;00m\n\u001b[0;32m    951\u001b[0m   \u001b[38;5;28mself\u001b[39m\u001b[38;5;241m.\u001b[39m_lock\u001b[38;5;241m.\u001b[39mrelease()\n",
      "File \u001b[1;32m~\\anaconda3\\envs\\lectures\\lib\\site-packages\\tensorflow\\python\\eager\\function.py:2956\u001b[0m, in \u001b[0;36mFunction.__call__\u001b[1;34m(self, *args, **kwargs)\u001b[0m\n\u001b[0;32m   2953\u001b[0m \u001b[38;5;28;01mwith\u001b[39;00m \u001b[38;5;28mself\u001b[39m\u001b[38;5;241m.\u001b[39m_lock:\n\u001b[0;32m   2954\u001b[0m   (graph_function,\n\u001b[0;32m   2955\u001b[0m    filtered_flat_args) \u001b[38;5;241m=\u001b[39m \u001b[38;5;28mself\u001b[39m\u001b[38;5;241m.\u001b[39m_maybe_define_function(args, kwargs)\n\u001b[1;32m-> 2956\u001b[0m \u001b[38;5;28;01mreturn\u001b[39;00m \u001b[43mgraph_function\u001b[49m\u001b[38;5;241;43m.\u001b[39;49m\u001b[43m_call_flat\u001b[49m\u001b[43m(\u001b[49m\n\u001b[0;32m   2957\u001b[0m \u001b[43m    \u001b[49m\u001b[43mfiltered_flat_args\u001b[49m\u001b[43m,\u001b[49m\u001b[43m \u001b[49m\u001b[43mcaptured_inputs\u001b[49m\u001b[38;5;241;43m=\u001b[39;49m\u001b[43mgraph_function\u001b[49m\u001b[38;5;241;43m.\u001b[39;49m\u001b[43mcaptured_inputs\u001b[49m\u001b[43m)\u001b[49m\n",
      "File \u001b[1;32m~\\anaconda3\\envs\\lectures\\lib\\site-packages\\tensorflow\\python\\eager\\function.py:1853\u001b[0m, in \u001b[0;36mConcreteFunction._call_flat\u001b[1;34m(self, args, captured_inputs, cancellation_manager)\u001b[0m\n\u001b[0;32m   1849\u001b[0m possible_gradient_type \u001b[38;5;241m=\u001b[39m gradients_util\u001b[38;5;241m.\u001b[39mPossibleTapeGradientTypes(args)\n\u001b[0;32m   1850\u001b[0m \u001b[38;5;28;01mif\u001b[39;00m (possible_gradient_type \u001b[38;5;241m==\u001b[39m gradients_util\u001b[38;5;241m.\u001b[39mPOSSIBLE_GRADIENT_TYPES_NONE\n\u001b[0;32m   1851\u001b[0m     \u001b[38;5;129;01mand\u001b[39;00m executing_eagerly):\n\u001b[0;32m   1852\u001b[0m   \u001b[38;5;66;03m# No tape is watching; skip to running the function.\u001b[39;00m\n\u001b[1;32m-> 1853\u001b[0m   \u001b[38;5;28;01mreturn\u001b[39;00m \u001b[38;5;28mself\u001b[39m\u001b[38;5;241m.\u001b[39m_build_call_outputs(\u001b[38;5;28;43mself\u001b[39;49m\u001b[38;5;241;43m.\u001b[39;49m\u001b[43m_inference_function\u001b[49m\u001b[38;5;241;43m.\u001b[39;49m\u001b[43mcall\u001b[49m\u001b[43m(\u001b[49m\n\u001b[0;32m   1854\u001b[0m \u001b[43m      \u001b[49m\u001b[43mctx\u001b[49m\u001b[43m,\u001b[49m\u001b[43m \u001b[49m\u001b[43margs\u001b[49m\u001b[43m,\u001b[49m\u001b[43m \u001b[49m\u001b[43mcancellation_manager\u001b[49m\u001b[38;5;241;43m=\u001b[39;49m\u001b[43mcancellation_manager\u001b[49m\u001b[43m)\u001b[49m)\n\u001b[0;32m   1855\u001b[0m forward_backward \u001b[38;5;241m=\u001b[39m \u001b[38;5;28mself\u001b[39m\u001b[38;5;241m.\u001b[39m_select_forward_and_backward_functions(\n\u001b[0;32m   1856\u001b[0m     args,\n\u001b[0;32m   1857\u001b[0m     possible_gradient_type,\n\u001b[0;32m   1858\u001b[0m     executing_eagerly)\n\u001b[0;32m   1859\u001b[0m forward_function, args_with_tangents \u001b[38;5;241m=\u001b[39m forward_backward\u001b[38;5;241m.\u001b[39mforward()\n",
      "File \u001b[1;32m~\\anaconda3\\envs\\lectures\\lib\\site-packages\\tensorflow\\python\\eager\\function.py:499\u001b[0m, in \u001b[0;36m_EagerDefinedFunction.call\u001b[1;34m(self, ctx, args, cancellation_manager)\u001b[0m\n\u001b[0;32m    497\u001b[0m \u001b[38;5;28;01mwith\u001b[39;00m _InterpolateFunctionError(\u001b[38;5;28mself\u001b[39m):\n\u001b[0;32m    498\u001b[0m   \u001b[38;5;28;01mif\u001b[39;00m cancellation_manager \u001b[38;5;129;01mis\u001b[39;00m \u001b[38;5;28;01mNone\u001b[39;00m:\n\u001b[1;32m--> 499\u001b[0m     outputs \u001b[38;5;241m=\u001b[39m \u001b[43mexecute\u001b[49m\u001b[38;5;241;43m.\u001b[39;49m\u001b[43mexecute\u001b[49m\u001b[43m(\u001b[49m\n\u001b[0;32m    500\u001b[0m \u001b[43m        \u001b[49m\u001b[38;5;28;43mstr\u001b[39;49m\u001b[43m(\u001b[49m\u001b[38;5;28;43mself\u001b[39;49m\u001b[38;5;241;43m.\u001b[39;49m\u001b[43msignature\u001b[49m\u001b[38;5;241;43m.\u001b[39;49m\u001b[43mname\u001b[49m\u001b[43m)\u001b[49m\u001b[43m,\u001b[49m\n\u001b[0;32m    501\u001b[0m \u001b[43m        \u001b[49m\u001b[43mnum_outputs\u001b[49m\u001b[38;5;241;43m=\u001b[39;49m\u001b[38;5;28;43mself\u001b[39;49m\u001b[38;5;241;43m.\u001b[39;49m\u001b[43m_num_outputs\u001b[49m\u001b[43m,\u001b[49m\n\u001b[0;32m    502\u001b[0m \u001b[43m        \u001b[49m\u001b[43minputs\u001b[49m\u001b[38;5;241;43m=\u001b[39;49m\u001b[43margs\u001b[49m\u001b[43m,\u001b[49m\n\u001b[0;32m    503\u001b[0m \u001b[43m        \u001b[49m\u001b[43mattrs\u001b[49m\u001b[38;5;241;43m=\u001b[39;49m\u001b[43mattrs\u001b[49m\u001b[43m,\u001b[49m\n\u001b[0;32m    504\u001b[0m \u001b[43m        \u001b[49m\u001b[43mctx\u001b[49m\u001b[38;5;241;43m=\u001b[39;49m\u001b[43mctx\u001b[49m\u001b[43m)\u001b[49m\n\u001b[0;32m    505\u001b[0m   \u001b[38;5;28;01melse\u001b[39;00m:\n\u001b[0;32m    506\u001b[0m     outputs \u001b[38;5;241m=\u001b[39m execute\u001b[38;5;241m.\u001b[39mexecute_with_cancellation(\n\u001b[0;32m    507\u001b[0m         \u001b[38;5;28mstr\u001b[39m(\u001b[38;5;28mself\u001b[39m\u001b[38;5;241m.\u001b[39msignature\u001b[38;5;241m.\u001b[39mname),\n\u001b[0;32m    508\u001b[0m         num_outputs\u001b[38;5;241m=\u001b[39m\u001b[38;5;28mself\u001b[39m\u001b[38;5;241m.\u001b[39m_num_outputs,\n\u001b[1;32m   (...)\u001b[0m\n\u001b[0;32m    511\u001b[0m         ctx\u001b[38;5;241m=\u001b[39mctx,\n\u001b[0;32m    512\u001b[0m         cancellation_manager\u001b[38;5;241m=\u001b[39mcancellation_manager)\n",
      "File \u001b[1;32m~\\anaconda3\\envs\\lectures\\lib\\site-packages\\tensorflow\\python\\eager\\execute.py:54\u001b[0m, in \u001b[0;36mquick_execute\u001b[1;34m(op_name, num_outputs, inputs, attrs, ctx, name)\u001b[0m\n\u001b[0;32m     52\u001b[0m \u001b[38;5;28;01mtry\u001b[39;00m:\n\u001b[0;32m     53\u001b[0m   ctx\u001b[38;5;241m.\u001b[39mensure_initialized()\n\u001b[1;32m---> 54\u001b[0m   tensors \u001b[38;5;241m=\u001b[39m \u001b[43mpywrap_tfe\u001b[49m\u001b[38;5;241;43m.\u001b[39;49m\u001b[43mTFE_Py_Execute\u001b[49m\u001b[43m(\u001b[49m\u001b[43mctx\u001b[49m\u001b[38;5;241;43m.\u001b[39;49m\u001b[43m_handle\u001b[49m\u001b[43m,\u001b[49m\u001b[43m \u001b[49m\u001b[43mdevice_name\u001b[49m\u001b[43m,\u001b[49m\u001b[43m \u001b[49m\u001b[43mop_name\u001b[49m\u001b[43m,\u001b[49m\n\u001b[0;32m     55\u001b[0m \u001b[43m                                      \u001b[49m\u001b[43minputs\u001b[49m\u001b[43m,\u001b[49m\u001b[43m \u001b[49m\u001b[43mattrs\u001b[49m\u001b[43m,\u001b[49m\u001b[43m \u001b[49m\u001b[43mnum_outputs\u001b[49m\u001b[43m)\u001b[49m\n\u001b[0;32m     56\u001b[0m \u001b[38;5;28;01mexcept\u001b[39;00m core\u001b[38;5;241m.\u001b[39m_NotOkStatusException \u001b[38;5;28;01mas\u001b[39;00m e:\n\u001b[0;32m     57\u001b[0m   \u001b[38;5;28;01mif\u001b[39;00m name \u001b[38;5;129;01mis\u001b[39;00m \u001b[38;5;129;01mnot\u001b[39;00m \u001b[38;5;28;01mNone\u001b[39;00m:\n",
      "\u001b[1;31mKeyboardInterrupt\u001b[0m: "
     ]
    }
   ],
   "source": [
    "history = model.fit(train_dataset, epochs=5, verbose=1, validation_data=test_dataset,\n",
    "                    validation_steps=30).history"
   ]
  },
  {
   "cell_type": "code",
   "execution_count": 56,
   "id": "cf6a7ecc",
   "metadata": {},
   "outputs": [
    {
     "data": {
      "text/plain": [
       "<AxesSubplot:>"
      ]
     },
     "execution_count": 56,
     "metadata": {},
     "output_type": "execute_result"
    },
    {
     "data": {
      "image/png": "[encoded data removed]",
      "text/plain": [
       "<Figure size 432x288 with 1 Axes>"
      ]
     },
     "metadata": {
      "needs_background": "light"
     },
     "output_type": "display_data"
    }
   ],
   "source": []
  },
  {
   "cell_type": "code",
   "execution_count": 57,
   "id": "cda23bbd",
   "metadata": {},
   "outputs": [],
   "source": []
  },
  {
   "cell_type": "markdown",
   "id": "c562ef16",
   "metadata": {},
   "source": [
    "## TensorBoard\n",
    "\n",
    "![tensorboard](media\\tensorboard.png)"
   ]
  },
  {
   "cell_type": "code",
   "execution_count": 58,
   "id": "ce00def0",
   "metadata": {},
   "outputs": [],
   "source": []
  },
  {
   "cell_type": "code",
   "execution_count": 59,
   "id": "08b9f2f8",
   "metadata": {},
   "outputs": [
    {
     "data": {
      "text/plain": [
       "<keras.callbacks.History at 0x1b4238e58e0>"
      ]
     },
     "execution_count": 59,
     "metadata": {},
     "output_type": "execute_result"
    }
   ],
   "source": []
  },
  {
   "cell_type": "code",
   "execution_count": 60,
   "id": "3d3343f0",
   "metadata": {},
   "outputs": [
    {
     "data": {
      "text/plain": [
       "Reusing TensorBoard on port 6006 (pid 25060), started 3:43:57 ago. (Use '!kill 25060' to kill it.)"
      ]
     },
     "metadata": {},
     "output_type": "display_data"
    },
    {
     "data": {
      "text/html": [
       "\n",
       "      <iframe id=\"tensorboard-frame-ef92a563b8ef7801\" width=\"100%\" height=\"800\" frameborder=\"0\">\n",
       "      </iframe>\n",
       "      <script>\n",
       "        (function() {\n",
       "          const frame = document.getElementById(\"tensorboard-frame-ef92a563b8ef7801\");\n",
       "          const url = new URL(\"/\", window.location);\n",
       "          const port = 6006;\n",
       "          if (port) {\n",
       "            url.port = port;\n",
       "          }\n",
       "          frame.src = url;\n",
       "        })();\n",
       "      </script>\n",
       "    "
      ],
      "text/plain": [
       "<IPython.core.display.HTML object>"
      ]
     },
     "metadata": {},
     "output_type": "display_data"
    }
   ],
   "source": []
  },
  {
   "cell_type": "code",
   "execution_count": null,
   "id": "27570334",
   "metadata": {},
   "outputs": [],
   "source": []
  },
  {
   "cell_type": "code",
   "execution_count": null,
   "id": "482b0b73",
   "metadata": {},
   "outputs": [],
   "source": []
  }
 ],
 "metadata": {
  "kernelspec": {
   "display_name": "Python [conda env:lectures] *",
   "language": "python",
   "name": "conda-env-lectures-py"
  },
  "language_info": {
   "codemirror_mode": {
    "name": "ipython",
    "version": 3
   },
   "file_extension": ".py",
   "mimetype": "text/x-python",
   "name": "python",
   "nbconvert_exporter": "python",
   "pygments_lexer": "ipython3",
   "version": "3.9.11"
  }
 },
 "nbformat": 4,
 "nbformat_minor": 5
}
